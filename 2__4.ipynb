{
 "cells": [
  {
   "cell_type": "code",
   "execution_count": 8,
   "id": "030c2551-1a28-459a-af90-4b02bc5b9984",
   "metadata": {},
   "outputs": [
    {
     "name": "stdout",
     "output_type": "stream",
     "text": [
      "0\n",
      "1\n",
      "2\n",
      "3\n",
      "4\n",
      "5\n",
      "6\n",
      "7\n",
      "8\n",
      "9\n"
     ]
    }
   ],
   "source": [
    "for i in range(10):  # first of all it will make a list of 10 nos and then it will use it to display the same and in this way alot of memory is been consumed\n",
    "    print(i)"
   ]
  },
  {
   "cell_type": "code",
   "execution_count": 9,
   "id": "9a23c9f3-3a2a-4b70-88bb-7b2c3e627e79",
   "metadata": {},
   "outputs": [],
   "source": [
    "def test_fib(n):\n",
    "    a,b=0,1\n",
    "    for i in range(n):\n",
    "        yield a \n",
    "        a,b=b,a+b"
   ]
  },
  {
   "cell_type": "code",
   "execution_count": 10,
   "id": "c34967e0-ee85-4fe3-b61c-624a091238fe",
   "metadata": {},
   "outputs": [
    {
     "data": {
      "text/plain": [
       "<generator object test_fib at 0x7f04307d3060>"
      ]
     },
     "execution_count": 10,
     "metadata": {},
     "output_type": "execute_result"
    }
   ],
   "source": [
    "test_fib(10)"
   ]
  },
  {
   "cell_type": "code",
   "execution_count": 11,
   "id": "d76e5554-7d92-488b-b1e6-fa849b3fc58f",
   "metadata": {},
   "outputs": [
    {
     "name": "stdout",
     "output_type": "stream",
     "text": [
      "0\n",
      "1\n",
      "1\n",
      "2\n",
      "3\n",
      "5\n",
      "8\n",
      "13\n",
      "21\n",
      "34\n"
     ]
    }
   ],
   "source": [
    "for i in test_fib(10): #in this way the no are been generated and shown directly instead of storing it in the list and displaying it\n",
    "    print(i)"
   ]
  },
  {
   "cell_type": "code",
   "execution_count": 12,
   "id": "be663dc8-8ebd-44f3-ab39-47c3a7861ec7",
   "metadata": {},
   "outputs": [],
   "source": [
    "def test_fib1():\n",
    "    a,b=0,1\n",
    "    while True:\n",
    "        yield a \n",
    "        a,b=b,a+b"
   ]
  },
  {
   "cell_type": "code",
   "execution_count": 13,
   "id": "ea47c9df-8b77-4449-8afb-49246747c4dc",
   "metadata": {},
   "outputs": [
    {
     "data": {
      "text/plain": [
       "generator"
      ]
     },
     "execution_count": 13,
     "metadata": {},
     "output_type": "execute_result"
    }
   ],
   "source": [
    "fib=test_fib1()\n",
    "type(fib)"
   ]
  },
  {
   "cell_type": "code",
   "execution_count": 14,
   "id": "0f61f596-17f0-4cdc-9b42-ce89948e0662",
   "metadata": {},
   "outputs": [
    {
     "name": "stdout",
     "output_type": "stream",
     "text": [
      "0\n",
      "1\n",
      "1\n",
      "2\n",
      "3\n",
      "5\n",
      "8\n",
      "13\n",
      "21\n",
      "34\n"
     ]
    }
   ],
   "source": [
    "for i in range(10):\n",
    "    print(next(fib))"
   ]
  },
  {
   "cell_type": "code",
   "execution_count": 15,
   "id": "24d5ed9a-c676-45f3-91c9-07c426a7e5e7",
   "metadata": {},
   "outputs": [],
   "source": [
    "s=\"sudh\""
   ]
  },
  {
   "cell_type": "code",
   "execution_count": 16,
   "id": "e5d1fef5-b13d-45df-9307-fd10e43064d6",
   "metadata": {},
   "outputs": [
    {
     "name": "stdout",
     "output_type": "stream",
     "text": [
      "s\n",
      "u\n",
      "d\n",
      "h\n"
     ]
    }
   ],
   "source": [
    "for i in s:\n",
    "    print(i)"
   ]
  },
  {
   "cell_type": "code",
   "execution_count": 17,
   "id": "2ae9afa9-e64b-4189-aad3-16410c7129e3",
   "metadata": {},
   "outputs": [
    {
     "ename": "TypeError",
     "evalue": "'str' object is not an iterator",
     "output_type": "error",
     "traceback": [
      "\u001b[0;31m---------------------------------------------------------------------------\u001b[0m",
      "\u001b[0;31mTypeError\u001b[0m                                 Traceback (most recent call last)",
      "Cell \u001b[0;32mIn[17], line 1\u001b[0m\n\u001b[0;32m----> 1\u001b[0m \u001b[38;5;28;43mnext\u001b[39;49m\u001b[43m(\u001b[49m\u001b[43ms\u001b[49m\u001b[43m)\u001b[49m\n",
      "\u001b[0;31mTypeError\u001b[0m: 'str' object is not an iterator"
     ]
    }
   ],
   "source": [
    "next(s)"
   ]
  },
  {
   "cell_type": "code",
   "execution_count": 18,
   "id": "1f7dbaed-1702-4a9b-9a5a-f7f5e367294e",
   "metadata": {},
   "outputs": [],
   "source": [
    "s1=iter(s)"
   ]
  },
  {
   "cell_type": "code",
   "execution_count": 19,
   "id": "091349d4-8c62-4d62-8862-9c93aa8ab636",
   "metadata": {},
   "outputs": [
    {
     "data": {
      "text/plain": [
       "'s'"
      ]
     },
     "execution_count": 19,
     "metadata": {},
     "output_type": "execute_result"
    }
   ],
   "source": [
    "next(s1)"
   ]
  },
  {
   "cell_type": "code",
   "execution_count": 20,
   "id": "1b4009a3-935a-4ccc-a404-32b3b5b83d39",
   "metadata": {},
   "outputs": [
    {
     "data": {
      "text/plain": [
       "'u'"
      ]
     },
     "execution_count": 20,
     "metadata": {},
     "output_type": "execute_result"
    }
   ],
   "source": [
    "next(s1)"
   ]
  },
  {
   "cell_type": "code",
   "execution_count": 21,
   "id": "8fc0a8b9-bbbb-4a04-85fd-7a87487cf2d6",
   "metadata": {},
   "outputs": [
    {
     "data": {
      "text/plain": [
       "'d'"
      ]
     },
     "execution_count": 21,
     "metadata": {},
     "output_type": "execute_result"
    }
   ],
   "source": [
    "next(s1)"
   ]
  },
  {
   "cell_type": "code",
   "execution_count": 22,
   "id": "d81cd3bb-4216-4c0b-8a61-e9990e85d4f8",
   "metadata": {},
   "outputs": [
    {
     "data": {
      "text/plain": [
       "'h'"
      ]
     },
     "execution_count": 22,
     "metadata": {},
     "output_type": "execute_result"
    }
   ],
   "source": [
    "next(s1)"
   ]
  },
  {
   "cell_type": "code",
   "execution_count": 23,
   "id": "4ddebb93-7b52-45c2-8528-27f0d05e3d1f",
   "metadata": {},
   "outputs": [
    {
     "data": {
      "text/plain": [
       "str_iterator"
      ]
     },
     "execution_count": 23,
     "metadata": {},
     "output_type": "execute_result"
    }
   ],
   "source": [
    "type(s1)"
   ]
  },
  {
   "cell_type": "code",
   "execution_count": 24,
   "id": "7b52cbc2-d922-49a1-8a37-d4dbd60fdba5",
   "metadata": {},
   "outputs": [
    {
     "ename": "TypeError",
     "evalue": "'int' object is not iterable",
     "output_type": "error",
     "traceback": [
      "\u001b[0;31m---------------------------------------------------------------------------\u001b[0m",
      "\u001b[0;31mTypeError\u001b[0m                                 Traceback (most recent call last)",
      "Cell \u001b[0;32mIn[24], line 1\u001b[0m\n\u001b[0;32m----> 1\u001b[0m \u001b[38;5;28;43miter\u001b[39;49m\u001b[43m(\u001b[49m\u001b[38;5;241;43m45\u001b[39;49m\u001b[43m)\u001b[49m\n",
      "\u001b[0;31mTypeError\u001b[0m: 'int' object is not iterable"
     ]
    }
   ],
   "source": [
    "iter(45)"
   ]
  },
  {
   "cell_type": "code",
   "execution_count": 25,
   "id": "6fc159f3-45fd-4597-85fe-0c432a574fe8",
   "metadata": {},
   "outputs": [],
   "source": [
    "def count_test(n):\n",
    "    count =1\n",
    "    while count<=n:\n",
    "        yield count \n",
    "        count=count+1"
   ]
  },
  {
   "cell_type": "code",
   "execution_count": 26,
   "id": "44c770e1-65ee-4c57-87db-b190024e394c",
   "metadata": {},
   "outputs": [],
   "source": [
    "c=count_test(5)"
   ]
  },
  {
   "cell_type": "code",
   "execution_count": 27,
   "id": "7b16692f-8c93-4f87-9a5a-b4af21ff2ee2",
   "metadata": {},
   "outputs": [
    {
     "name": "stdout",
     "output_type": "stream",
     "text": [
      "1\n",
      "2\n",
      "3\n",
      "4\n",
      "5\n"
     ]
    }
   ],
   "source": [
    "for i in c:\n",
    "    print(i)"
   ]
  },
  {
   "cell_type": "code",
   "execution_count": 28,
   "id": "10f4fe50-8320-4260-9a6b-ef360a258b58",
   "metadata": {},
   "outputs": [],
   "source": [
    "n=3\n",
    "p=2"
   ]
  },
  {
   "cell_type": "code",
   "execution_count": 29,
   "id": "627b6fdb-ebe7-4015-9d01-a5da2796ebaf",
   "metadata": {},
   "outputs": [],
   "source": [
    "def test(n,p):\n",
    "    return n**p"
   ]
  },
  {
   "cell_type": "code",
   "execution_count": 30,
   "id": "69fbc1f2-3db3-4e4f-96c3-3a4c4a00a4a6",
   "metadata": {},
   "outputs": [
    {
     "data": {
      "text/plain": [
       "9"
      ]
     },
     "execution_count": 30,
     "metadata": {},
     "output_type": "execute_result"
    }
   ],
   "source": [
    "test(3,2)"
   ]
  },
  {
   "cell_type": "code",
   "execution_count": 31,
   "id": "f6d77bea-8c17-4f5e-a332-382665b60fb0",
   "metadata": {},
   "outputs": [],
   "source": [
    "a=lambda n,p:n**p #one line function, anonymous function, lambda function"
   ]
  },
  {
   "cell_type": "code",
   "execution_count": 32,
   "id": "39c29665-fe4c-41a7-960f-5a1abc4310f6",
   "metadata": {},
   "outputs": [
    {
     "data": {
      "text/plain": [
       "9"
      ]
     },
     "execution_count": 32,
     "metadata": {},
     "output_type": "execute_result"
    }
   ],
   "source": [
    "a(3,2)"
   ]
  },
  {
   "cell_type": "code",
   "execution_count": 33,
   "id": "71dee182-a294-47c2-8ab0-9a6e07f98e51",
   "metadata": {},
   "outputs": [],
   "source": [
    "add=lambda x,y:x+y"
   ]
  },
  {
   "cell_type": "code",
   "execution_count": 34,
   "id": "d5dcb050-b73f-4d02-ae6f-7d9290b7dc0b",
   "metadata": {},
   "outputs": [
    {
     "data": {
      "text/plain": [
       "9"
      ]
     },
     "execution_count": 34,
     "metadata": {},
     "output_type": "execute_result"
    }
   ],
   "source": [
    "add(4,5)"
   ]
  },
  {
   "cell_type": "code",
   "execution_count": 35,
   "id": "09f48a80-0a6e-496a-a0cf-0224d70dc969",
   "metadata": {},
   "outputs": [],
   "source": [
    "c_to_f=lambda c:(9/5)*c+32"
   ]
  },
  {
   "cell_type": "code",
   "execution_count": 36,
   "id": "f873b71b-1079-4e7b-9b1e-62154917ead8",
   "metadata": {},
   "outputs": [
    {
     "data": {
      "text/plain": [
       "113.0"
      ]
     },
     "execution_count": 36,
     "metadata": {},
     "output_type": "execute_result"
    }
   ],
   "source": [
    "c_to_f(45)"
   ]
  },
  {
   "cell_type": "code",
   "execution_count": 37,
   "id": "a701210b-0677-44bb-9045-d05216b5ffa1",
   "metadata": {},
   "outputs": [],
   "source": [
    "finding_max=lambda x,y: x if x>y else y"
   ]
  },
  {
   "cell_type": "code",
   "execution_count": 38,
   "id": "7ec34dca-cd1a-439f-9d0d-4e41fdcad602",
   "metadata": {},
   "outputs": [
    {
     "data": {
      "text/plain": [
       "34"
      ]
     },
     "execution_count": 38,
     "metadata": {},
     "output_type": "execute_result"
    }
   ],
   "source": [
    "finding_max(34,22)"
   ]
  },
  {
   "cell_type": "markdown",
   "id": "d88b66af-fb1c-4a7e-b8a1-9babae645696",
   "metadata": {},
   "source": [
    "Map,Reduce and Filter"
   ]
  },
  {
   "cell_type": "code",
   "execution_count": 39,
   "id": "19821068-fbed-486f-b06d-8bf809d12767",
   "metadata": {},
   "outputs": [],
   "source": [
    "def sq(x):\n",
    "    return x*x"
   ]
  },
  {
   "cell_type": "code",
   "execution_count": 40,
   "id": "f5a17c9e-c887-4f5b-8b4f-3f5afc626fc0",
   "metadata": {},
   "outputs": [
    {
     "data": {
      "text/plain": [
       "[4, 9, 16, 25, 36]"
      ]
     },
     "execution_count": 40,
     "metadata": {},
     "output_type": "execute_result"
    }
   ],
   "source": [
    "l=[2,3,4,5,6]\n",
    "list(map(sq,l))"
   ]
  },
  {
   "cell_type": "code",
   "execution_count": 41,
   "id": "0606f06c-5fe5-4c93-857c-efdce1747a00",
   "metadata": {},
   "outputs": [
    {
     "data": {
      "text/plain": [
       "[4, 9, 16, 25, 36]"
      ]
     },
     "execution_count": 41,
     "metadata": {},
     "output_type": "execute_result"
    }
   ],
   "source": [
    "list(map(lambda x:x**2,l))"
   ]
  },
  {
   "cell_type": "code",
   "execution_count": 42,
   "id": "e276f8fd-337a-4633-9de9-8bdb0d9d6d78",
   "metadata": {},
   "outputs": [
    {
     "data": {
      "text/plain": [
       "[7, 9, 11, 13, 15]"
      ]
     },
     "execution_count": 42,
     "metadata": {},
     "output_type": "execute_result"
    }
   ],
   "source": [
    "l1=[1,2,3,4,5]\n",
    "l2=[6,7,8,9,10]\n",
    "\n",
    "list(map(lambda x,y: x+y,l1,l2))"
   ]
  },
  {
   "cell_type": "code",
   "execution_count": 43,
   "id": "f5cc0d89-ebc2-4115-9d86-b08f80967e14",
   "metadata": {},
   "outputs": [],
   "source": [
    "def add(x,y):\n",
    "    return x+y"
   ]
  },
  {
   "cell_type": "code",
   "execution_count": 44,
   "id": "555710a4-42a3-4f8b-93a6-2194b643007f",
   "metadata": {},
   "outputs": [
    {
     "data": {
      "text/plain": [
       "[7, 9, 11, 13, 15]"
      ]
     },
     "execution_count": 44,
     "metadata": {},
     "output_type": "execute_result"
    }
   ],
   "source": [
    "list(map(add,l1,l2))"
   ]
  },
  {
   "cell_type": "code",
   "execution_count": 45,
   "id": "deefc694-c7f2-4a8f-8bd6-b30d9ecedad2",
   "metadata": {},
   "outputs": [
    {
     "data": {
      "text/plain": [
       "['P', 'W', 'S', 'K', 'I', 'L', 'L', 'S']"
      ]
     },
     "execution_count": 45,
     "metadata": {},
     "output_type": "execute_result"
    }
   ],
   "source": [
    "s=\"pwskills\"\n",
    "\n",
    "list(map(lambda s: s.upper(),s))"
   ]
  },
  {
   "cell_type": "code",
   "execution_count": 46,
   "id": "abace1bf-c8b9-4ea3-a88c-b5dd4b70e337",
   "metadata": {},
   "outputs": [],
   "source": [
    "from functools import reduce"
   ]
  },
  {
   "cell_type": "code",
   "execution_count": 47,
   "id": "cf9f2517-dda8-4deb-8532-7425af9c8b8c",
   "metadata": {},
   "outputs": [
    {
     "data": {
      "text/plain": [
       "15"
      ]
     },
     "execution_count": 47,
     "metadata": {},
     "output_type": "execute_result"
    }
   ],
   "source": [
    "l=[1,2,3,4,5]\n",
    "\n",
    "reduce(lambda x,y:x+y,l) #we can give only 2 variables because if we will give 3 agruments then there might be possibilty that the 3rd var dont get any value and the error may be faced later"
   ]
  },
  {
   "cell_type": "code",
   "execution_count": 48,
   "id": "e112eb6e-c2aa-4bca-a9ed-b4f4143b1682",
   "metadata": {},
   "outputs": [
    {
     "data": {
      "text/plain": [
       "120"
      ]
     },
     "execution_count": 48,
     "metadata": {},
     "output_type": "execute_result"
    }
   ],
   "source": [
    "reduce(lambda x,y:x*y,l)"
   ]
  },
  {
   "cell_type": "code",
   "execution_count": 49,
   "id": "2eb57b19-978b-45d2-93c5-2c1a410a5d24",
   "metadata": {},
   "outputs": [
    {
     "data": {
      "text/plain": [
       "5"
      ]
     },
     "execution_count": 49,
     "metadata": {},
     "output_type": "execute_result"
    }
   ],
   "source": [
    "reduce(lambda x,y:x if x>y else y,l)"
   ]
  },
  {
   "cell_type": "code",
   "execution_count": 50,
   "id": "37c9e2d7-e15a-4363-b1b9-8787919f9a9a",
   "metadata": {},
   "outputs": [
    {
     "data": {
      "text/plain": [
       "[1, 2, 3, 4, 5]"
      ]
     },
     "execution_count": 50,
     "metadata": {},
     "output_type": "execute_result"
    }
   ],
   "source": [
    "l"
   ]
  },
  {
   "cell_type": "code",
   "execution_count": 51,
   "id": "69b7437a-80d5-45f7-b678-140228ce4de4",
   "metadata": {},
   "outputs": [
    {
     "data": {
      "text/plain": [
       "[2, 4]"
      ]
     },
     "execution_count": 51,
     "metadata": {},
     "output_type": "execute_result"
    }
   ],
   "source": [
    "list(filter(lambda x: x%2==0,l))"
   ]
  },
  {
   "cell_type": "code",
   "execution_count": 52,
   "id": "bf8f878d-9130-48b6-b14d-b3fce6c9d55a",
   "metadata": {},
   "outputs": [],
   "source": [
    "# it gives output whenever it is true"
   ]
  },
  {
   "cell_type": "code",
   "execution_count": 54,
   "id": "9a7fc16a-ea61-4c11-ab5f-90640653e802",
   "metadata": {},
   "outputs": [],
   "source": [
    "l1=[-2,2,34,45,-1,-23,-3,2323,-345,463]"
   ]
  },
  {
   "cell_type": "code",
   "execution_count": 56,
   "id": "12f8a943-a6e5-4fd1-88aa-28a27fd34e27",
   "metadata": {},
   "outputs": [
    {
     "data": {
      "text/plain": [
       "[-2, -1, -23, -3, -345]"
      ]
     },
     "execution_count": 56,
     "metadata": {},
     "output_type": "execute_result"
    }
   ],
   "source": [
    "list(filter(lambda x: x<0,l1))"
   ]
  },
  {
   "cell_type": "code",
   "execution_count": 57,
   "id": "d404bd3c-2a57-4657-aa80-26651cfa8aea",
   "metadata": {},
   "outputs": [],
   "source": [
    "l2=[\"sudh\",'pwskills','kumar','bengalore','krish']"
   ]
  },
  {
   "cell_type": "code",
   "execution_count": 58,
   "id": "65e43f6c-8569-40cf-a0cd-ef427ac206e6",
   "metadata": {},
   "outputs": [
    {
     "data": {
      "text/plain": [
       "['sudh', 'kumar', 'krish']"
      ]
     },
     "execution_count": 58,
     "metadata": {},
     "output_type": "execute_result"
    }
   ],
   "source": [
    "list(filter(lambda x:len(x)<6,l2))"
   ]
  },
  {
   "cell_type": "code",
   "execution_count": null,
   "id": "389c6777-a6df-4b14-83ec-a536fbbd6048",
   "metadata": {},
   "outputs": [],
   "source": []
  }
 ],
 "metadata": {
  "kernelspec": {
   "display_name": "Python 3 (ipykernel)",
   "language": "python",
   "name": "python3"
  },
  "language_info": {
   "codemirror_mode": {
    "name": "ipython",
    "version": 3
   },
   "file_extension": ".py",
   "mimetype": "text/x-python",
   "name": "python",
   "nbconvert_exporter": "python",
   "pygments_lexer": "ipython3",
   "version": "3.10.8"
  }
 },
 "nbformat": 4,
 "nbformat_minor": 5
}
