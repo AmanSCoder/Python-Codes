{
 "cells": [
  {
   "cell_type": "code",
   "execution_count": 2,
   "id": "cb222a78-17cc-44be-a2b2-3842c7054efc",
   "metadata": {},
   "outputs": [],
   "source": [
    "import numpy as np"
   ]
  },
  {
   "cell_type": "code",
   "execution_count": 3,
   "id": "c26a5c33-b5fb-4b89-863a-6e0cf3d5ca5d",
   "metadata": {},
   "outputs": [],
   "source": [
    "arr=np.random.randint(1,10,(3,4))"
   ]
  },
  {
   "cell_type": "code",
   "execution_count": 4,
   "id": "3405e339-33c2-43ee-892a-51dbd72c34bb",
   "metadata": {},
   "outputs": [
    {
     "data": {
      "text/plain": [
       "array([[6, 9, 9, 2],\n",
       "       [7, 6, 2, 8],\n",
       "       [5, 1, 5, 9]])"
      ]
     },
     "execution_count": 4,
     "metadata": {},
     "output_type": "execute_result"
    }
   ],
   "source": [
    "arr"
   ]
  },
  {
   "cell_type": "code",
   "execution_count": 5,
   "id": "7fa5bb24-9e1b-4b0e-aa81-5d32ff214b9a",
   "metadata": {},
   "outputs": [],
   "source": [
    "arr1=np.array([1,2,3,3,4])"
   ]
  },
  {
   "cell_type": "code",
   "execution_count": 6,
   "id": "726d4c67-1e19-4cfd-a5ba-f219a0da0812",
   "metadata": {},
   "outputs": [
    {
     "data": {
      "text/plain": [
       "array([[1],\n",
       "       [2],\n",
       "       [3],\n",
       "       [3],\n",
       "       [4]])"
      ]
     },
     "execution_count": 6,
     "metadata": {},
     "output_type": "execute_result"
    }
   ],
   "source": [
    "np.expand_dims(arr1,axis=1)"
   ]
  },
  {
   "cell_type": "code",
   "execution_count": 7,
   "id": "5375db57-32d1-4dc7-acd7-4ce1deb1e30d",
   "metadata": {},
   "outputs": [
    {
     "data": {
      "text/plain": [
       "array([[1, 2, 3, 3, 4]])"
      ]
     },
     "execution_count": 7,
     "metadata": {},
     "output_type": "execute_result"
    }
   ],
   "source": [
    "np.expand_dims(arr1,axis=0)"
   ]
  },
  {
   "cell_type": "code",
   "execution_count": 8,
   "id": "c611c5ac-657b-4472-ac45-e0befedbc7f6",
   "metadata": {},
   "outputs": [
    {
     "data": {
      "text/plain": [
       "array([[6, 9, 9, 2],\n",
       "       [7, 6, 2, 8],\n",
       "       [5, 1, 5, 9]])"
      ]
     },
     "execution_count": 8,
     "metadata": {},
     "output_type": "execute_result"
    }
   ],
   "source": [
    "np.squeeze(arr)"
   ]
  },
  {
   "cell_type": "code",
   "execution_count": 9,
   "id": "a8c2e180-2226-4001-8144-bec64f8c3119",
   "metadata": {},
   "outputs": [],
   "source": [
    "data=np.array([[1],[2],[3]])"
   ]
  },
  {
   "cell_type": "code",
   "execution_count": 10,
   "id": "a856670d-578d-4df3-88fd-b963806566cc",
   "metadata": {},
   "outputs": [
    {
     "data": {
      "text/plain": [
       "array([[1],\n",
       "       [2],\n",
       "       [3]])"
      ]
     },
     "execution_count": 10,
     "metadata": {},
     "output_type": "execute_result"
    }
   ],
   "source": [
    "data"
   ]
  },
  {
   "cell_type": "code",
   "execution_count": 11,
   "id": "b12bbe2d-37f5-412f-adef-2a862ac9d800",
   "metadata": {},
   "outputs": [
    {
     "data": {
      "text/plain": [
       "array([1, 2, 3])"
      ]
     },
     "execution_count": 11,
     "metadata": {},
     "output_type": "execute_result"
    }
   ],
   "source": [
    "np.squeeze(data)"
   ]
  },
  {
   "cell_type": "code",
   "execution_count": 12,
   "id": "a1079ddc-4b90-4bd4-8225-c0c57c887a8f",
   "metadata": {},
   "outputs": [
    {
     "data": {
      "text/plain": [
       "array([1, 2, 3, 3, 4])"
      ]
     },
     "execution_count": 12,
     "metadata": {},
     "output_type": "execute_result"
    }
   ],
   "source": [
    "arr1"
   ]
  },
  {
   "cell_type": "code",
   "execution_count": 13,
   "id": "2351e432-7437-4b37-8ed4-bbd1ed679e2d",
   "metadata": {},
   "outputs": [
    {
     "data": {
      "text/plain": [
       "array([1, 1, 1, 2, 2, 2, 3, 3, 3, 3, 3, 3, 4, 4, 4])"
      ]
     },
     "execution_count": 13,
     "metadata": {},
     "output_type": "execute_result"
    }
   ],
   "source": [
    "np.repeat(arr1,3)"
   ]
  },
  {
   "cell_type": "code",
   "execution_count": 16,
   "id": "dcf7862d-959d-4a0a-acb6-20de837c0e02",
   "metadata": {},
   "outputs": [
    {
     "data": {
      "text/plain": [
       "array([3, 4, 1, 2, 3])"
      ]
     },
     "execution_count": 16,
     "metadata": {},
     "output_type": "execute_result"
    }
   ],
   "source": [
    "np.roll(arr1,2) # shifts all the index values by 2"
   ]
  },
  {
   "cell_type": "code",
   "execution_count": 18,
   "id": "27934253-a8fc-4612-9fa7-163f287009fb",
   "metadata": {},
   "outputs": [
    {
     "data": {
      "text/plain": [
       "array([[1, 0, 0, 0, 0],\n",
       "       [0, 2, 0, 0, 0],\n",
       "       [0, 0, 3, 0, 0],\n",
       "       [0, 0, 0, 3, 0],\n",
       "       [0, 0, 0, 0, 4]])"
      ]
     },
     "execution_count": 18,
     "metadata": {},
     "output_type": "execute_result"
    }
   ],
   "source": [
    "np.diag(arr1)"
   ]
  },
  {
   "cell_type": "code",
   "execution_count": 19,
   "id": "54bd9f1f-0434-412d-9c12-4337de9e9139",
   "metadata": {},
   "outputs": [],
   "source": [
    "#Numpy -binary operators"
   ]
  },
  {
   "cell_type": "code",
   "execution_count": 20,
   "id": "bfcb7d93-c90a-484d-8569-60622fb9a5b1",
   "metadata": {},
   "outputs": [],
   "source": [
    "arr1=np.random.randint(1,10,(3,4))"
   ]
  },
  {
   "cell_type": "code",
   "execution_count": 22,
   "id": "417b8f76-4dce-422f-9e06-a6ccdafb6c6b",
   "metadata": {},
   "outputs": [],
   "source": [
    "arr2=np.random.randint(1,10,(3,4))"
   ]
  },
  {
   "cell_type": "code",
   "execution_count": 23,
   "id": "5c62f140-d640-4df9-99ff-d7dd667e7cd7",
   "metadata": {},
   "outputs": [
    {
     "data": {
      "text/plain": [
       "array([[12,  9, 10, 10],\n",
       "       [ 9,  3, 13, 12],\n",
       "       [ 8, 14,  8, 12]])"
      ]
     },
     "execution_count": 23,
     "metadata": {},
     "output_type": "execute_result"
    }
   ],
   "source": [
    "arr1+arr2"
   ]
  },
  {
   "cell_type": "code",
   "execution_count": 24,
   "id": "36dc5270-8f14-4101-97e3-e6a2b3dc3804",
   "metadata": {},
   "outputs": [
    {
     "data": {
      "text/plain": [
       "array([[0.33333333, 1.25      , 4.        , 0.25      ],\n",
       "       [0.8       , 2.        , 2.25      , 0.5       ],\n",
       "       [0.14285714, 1.33333333, 3.        , 0.33333333]])"
      ]
     },
     "execution_count": 24,
     "metadata": {},
     "output_type": "execute_result"
    }
   ],
   "source": [
    "arr1/arr2"
   ]
  },
  {
   "cell_type": "code",
   "execution_count": 25,
   "id": "3caf0664-3326-4429-8d0b-a10959945e8d",
   "metadata": {},
   "outputs": [
    {
     "data": {
      "text/plain": [
       "array([[-6,  1,  6, -6],\n",
       "       [-1,  1,  5, -4],\n",
       "       [-6,  2,  4, -6]])"
      ]
     },
     "execution_count": 25,
     "metadata": {},
     "output_type": "execute_result"
    }
   ],
   "source": [
    "arr1-arr2"
   ]
  },
  {
   "cell_type": "code",
   "execution_count": 26,
   "id": "d4ca9a30-8ec9-44cb-8654-86ace2d0e046",
   "metadata": {},
   "outputs": [
    {
     "data": {
      "text/plain": [
       "array([[3, 1, 0, 2],\n",
       "       [4, 0, 1, 4],\n",
       "       [1, 2, 0, 3]])"
      ]
     },
     "execution_count": 26,
     "metadata": {},
     "output_type": "execute_result"
    }
   ],
   "source": [
    "arr1%arr2"
   ]
  },
  {
   "cell_type": "code",
   "execution_count": 27,
   "id": "8a06f990-877d-43ea-ae07-4b8bc7b37c1e",
   "metadata": {},
   "outputs": [
    {
     "data": {
      "text/plain": [
       "array([[ 19683,    625,     64,    256],\n",
       "       [  1024,      2,   6561,  65536],\n",
       "       [     1, 262144,     36,  19683]])"
      ]
     },
     "execution_count": 27,
     "metadata": {},
     "output_type": "execute_result"
    }
   ],
   "source": [
    "arr1**arr2"
   ]
  },
  {
   "cell_type": "code",
   "execution_count": 28,
   "id": "58da3eaf-6a88-4326-81e2-13f904bf093f",
   "metadata": {},
   "outputs": [
    {
     "data": {
      "text/plain": [
       "array([[1, 4, 0, 0],\n",
       "       [4, 0, 0, 0],\n",
       "       [1, 0, 2, 1]])"
      ]
     },
     "execution_count": 28,
     "metadata": {},
     "output_type": "execute_result"
    }
   ],
   "source": [
    "arr1&arr2"
   ]
  },
  {
   "cell_type": "code",
   "execution_count": 29,
   "id": "48343fb6-50b9-4be4-9cad-6d84d750e9aa",
   "metadata": {},
   "outputs": [
    {
     "data": {
      "text/plain": [
       "array([[ -4,  -6,  -9,  -3],\n",
       "       [ -5,  -3, -10,  -5],\n",
       "       [ -2,  -9,  -7,  -4]])"
      ]
     },
     "execution_count": 29,
     "metadata": {},
     "output_type": "execute_result"
    }
   ],
   "source": [
    "~arr1"
   ]
  },
  {
   "cell_type": "code",
   "execution_count": 30,
   "id": "adf93ea8-1c65-4ff3-9b25-0f2d14d4a7f7",
   "metadata": {},
   "outputs": [
    {
     "data": {
      "text/plain": [
       "array([[3, 5, 8, 2],\n",
       "       [4, 2, 9, 4],\n",
       "       [1, 8, 6, 3]])"
      ]
     },
     "execution_count": 30,
     "metadata": {},
     "output_type": "execute_result"
    }
   ],
   "source": [
    "arr1"
   ]
  },
  {
   "cell_type": "code",
   "execution_count": 31,
   "id": "5a0417b9-9db0-4e39-8ed0-c693d80c1550",
   "metadata": {},
   "outputs": [
    {
     "data": {
      "text/plain": [
       "array([[False,  True,  True, False],\n",
       "       [False,  True,  True, False],\n",
       "       [False,  True,  True, False]])"
      ]
     },
     "execution_count": 31,
     "metadata": {},
     "output_type": "execute_result"
    }
   ],
   "source": [
    "arr1>arr2"
   ]
  },
  {
   "cell_type": "code",
   "execution_count": 32,
   "id": "b6209720-adcd-4746-890c-572cc5417668",
   "metadata": {},
   "outputs": [],
   "source": [
    "#Numpy - string function"
   ]
  },
  {
   "cell_type": "code",
   "execution_count": 35,
   "id": "c95e7746-cd3b-4be8-b826-516f1731afa1",
   "metadata": {},
   "outputs": [],
   "source": [
    "arr=np.array(['aman','kumar'])"
   ]
  },
  {
   "cell_type": "code",
   "execution_count": 36,
   "id": "c5eaa0e3-f58d-4fd5-a547-5f2907895bb2",
   "metadata": {},
   "outputs": [
    {
     "data": {
      "text/plain": [
       "array(['aman', 'kumar'], dtype='<U5')"
      ]
     },
     "execution_count": 36,
     "metadata": {},
     "output_type": "execute_result"
    }
   ],
   "source": [
    "arr"
   ]
  },
  {
   "cell_type": "code",
   "execution_count": 37,
   "id": "7dcf4ddf-1ee5-48e2-abab-59aeabaab7d8",
   "metadata": {},
   "outputs": [
    {
     "data": {
      "text/plain": [
       "array(['AMAN', 'KUMAR'], dtype='<U5')"
      ]
     },
     "execution_count": 37,
     "metadata": {},
     "output_type": "execute_result"
    }
   ],
   "source": [
    "np.char.upper(arr)"
   ]
  },
  {
   "cell_type": "code",
   "execution_count": 38,
   "id": "e8d82bac-1131-4a5e-8c95-8b03a33cac46",
   "metadata": {},
   "outputs": [
    {
     "data": {
      "text/plain": [
       "array(['Aman', 'Kumar'], dtype='<U5')"
      ]
     },
     "execution_count": 38,
     "metadata": {},
     "output_type": "execute_result"
    }
   ],
   "source": [
    "np.char.capitalize(arr)"
   ]
  },
  {
   "cell_type": "code",
   "execution_count": 39,
   "id": "077eece4-b827-4e0b-92df-c19eee1715c6",
   "metadata": {},
   "outputs": [
    {
     "data": {
      "text/plain": [
       "array(['Aman', 'Kumar'], dtype='<U5')"
      ]
     },
     "execution_count": 39,
     "metadata": {},
     "output_type": "execute_result"
    }
   ],
   "source": [
    "np.char.title(arr)"
   ]
  },
  {
   "cell_type": "code",
   "execution_count": 40,
   "id": "7b0a5b53-7bea-44c6-b5b9-1d073834efcc",
   "metadata": {},
   "outputs": [],
   "source": [
    "#Numpy - mathematical function"
   ]
  },
  {
   "cell_type": "code",
   "execution_count": 41,
   "id": "8ffc6e3d-f967-404c-8106-06f69bbe4d06",
   "metadata": {},
   "outputs": [
    {
     "data": {
      "text/plain": [
       "array([[ 0.14112001, -0.95892427,  0.98935825,  0.90929743],\n",
       "       [-0.7568025 ,  0.90929743,  0.41211849, -0.7568025 ],\n",
       "       [ 0.84147098,  0.98935825, -0.2794155 ,  0.14112001]])"
      ]
     },
     "execution_count": 41,
     "metadata": {},
     "output_type": "execute_result"
    }
   ],
   "source": [
    "np.sin(arr1)"
   ]
  },
  {
   "cell_type": "code",
   "execution_count": 42,
   "id": "a4bd4999-8e96-4a42-ab92-97ea48a3a34e",
   "metadata": {},
   "outputs": [
    {
     "data": {
      "text/plain": [
       "array([[-0.9899925 ,  0.28366219, -0.14550003, -0.41614684],\n",
       "       [-0.65364362, -0.41614684, -0.91113026, -0.65364362],\n",
       "       [ 0.54030231, -0.14550003,  0.96017029, -0.9899925 ]])"
      ]
     },
     "execution_count": 42,
     "metadata": {},
     "output_type": "execute_result"
    }
   ],
   "source": [
    "np.cos(arr1)"
   ]
  },
  {
   "cell_type": "code",
   "execution_count": 43,
   "id": "88cc27c8-7bb7-4404-b68a-4acb044bab55",
   "metadata": {},
   "outputs": [
    {
     "data": {
      "text/plain": [
       "array([[-0.14254654, -3.38051501, -6.79971146, -2.18503986],\n",
       "       [ 1.15782128, -2.18503986, -0.45231566,  1.15782128],\n",
       "       [ 1.55740772, -6.79971146, -0.29100619, -0.14254654]])"
      ]
     },
     "execution_count": 43,
     "metadata": {},
     "output_type": "execute_result"
    }
   ],
   "source": [
    "np.tan(arr1)"
   ]
  },
  {
   "cell_type": "code",
   "execution_count": 44,
   "id": "0eb12f4b-1bc5-4153-b264-aa3a275214be",
   "metadata": {},
   "outputs": [
    {
     "data": {
      "text/plain": [
       "array([[0.99505475, 0.9999092 , 0.99999977, 0.96402758],\n",
       "       [0.9993293 , 0.96402758, 0.99999997, 0.9993293 ],\n",
       "       [0.76159416, 0.99999977, 0.99998771, 0.99505475]])"
      ]
     },
     "execution_count": 44,
     "metadata": {},
     "output_type": "execute_result"
    }
   ],
   "source": [
    "np.tanh(arr1)"
   ]
  },
  {
   "cell_type": "code",
   "execution_count": 45,
   "id": "fd012da1-8935-4797-bf4b-e81864989a29",
   "metadata": {},
   "outputs": [
    {
     "data": {
      "text/plain": [
       "array([[0.47712125, 0.69897   , 0.90308999, 0.30103   ],\n",
       "       [0.60205999, 0.30103   , 0.95424251, 0.60205999],\n",
       "       [0.        , 0.90308999, 0.77815125, 0.47712125]])"
      ]
     },
     "execution_count": 45,
     "metadata": {},
     "output_type": "execute_result"
    }
   ],
   "source": [
    "np.log10(arr1)"
   ]
  },
  {
   "cell_type": "code",
   "execution_count": 46,
   "id": "0ef54c20-60d4-44d5-9ade-8adb2a40e73e",
   "metadata": {},
   "outputs": [
    {
     "data": {
      "text/plain": [
       "array([[2.00855369e+01, 1.48413159e+02, 2.98095799e+03, 7.38905610e+00],\n",
       "       [5.45981500e+01, 7.38905610e+00, 8.10308393e+03, 5.45981500e+01],\n",
       "       [2.71828183e+00, 2.98095799e+03, 4.03428793e+02, 2.00855369e+01]])"
      ]
     },
     "execution_count": 46,
     "metadata": {},
     "output_type": "execute_result"
    }
   ],
   "source": [
    "np.exp(arr1)"
   ]
  },
  {
   "cell_type": "code",
   "execution_count": 47,
   "id": "df1a9cbc-e737-42f7-95d8-2cf019d322ff",
   "metadata": {},
   "outputs": [
    {
     "data": {
      "text/plain": [
       "array([[1.73205081, 2.23606798, 2.82842712, 1.41421356],\n",
       "       [2.        , 1.41421356, 3.        , 2.        ],\n",
       "       [1.        , 2.82842712, 2.44948974, 1.73205081]])"
      ]
     },
     "execution_count": 47,
     "metadata": {},
     "output_type": "execute_result"
    }
   ],
   "source": [
    "np.sqrt(arr1)"
   ]
  },
  {
   "cell_type": "code",
   "execution_count": 48,
   "id": "1dc50527-5440-4a21-8d47-21fce18952c9",
   "metadata": {},
   "outputs": [
    {
     "data": {
      "text/plain": [
       "array([[ 9, 25, 64,  4],\n",
       "       [16,  4, 81, 16],\n",
       "       [ 1, 64, 36,  9]])"
      ]
     },
     "execution_count": 48,
     "metadata": {},
     "output_type": "execute_result"
    }
   ],
   "source": [
    "np.power(arr1,2)"
   ]
  },
  {
   "cell_type": "code",
   "execution_count": 49,
   "id": "16b0081a-29ee-4e8d-9a3a-8776eeeeff22",
   "metadata": {},
   "outputs": [
    {
     "data": {
      "text/plain": [
       "4.583333333333333"
      ]
     },
     "execution_count": 49,
     "metadata": {},
     "output_type": "execute_result"
    }
   ],
   "source": [
    "np.mean(arr1)"
   ]
  },
  {
   "cell_type": "code",
   "execution_count": 50,
   "id": "a3f483d4-bcfb-4b72-b636-38886b23af3b",
   "metadata": {},
   "outputs": [
    {
     "data": {
      "text/plain": [
       "4.0"
      ]
     },
     "execution_count": 50,
     "metadata": {},
     "output_type": "execute_result"
    }
   ],
   "source": [
    "np.median(arr1)"
   ]
  },
  {
   "cell_type": "code",
   "execution_count": 52,
   "id": "a0366c72-f309-4340-913a-848a29ae6873",
   "metadata": {},
   "outputs": [
    {
     "data": {
      "text/plain": [
       "2.5317429218272185"
      ]
     },
     "execution_count": 52,
     "metadata": {},
     "output_type": "execute_result"
    }
   ],
   "source": [
    "np.std(arr1)"
   ]
  },
  {
   "cell_type": "code",
   "execution_count": 53,
   "id": "1cdfad8d-8de0-40e6-af98-b97dc4ade0a3",
   "metadata": {},
   "outputs": [
    {
     "data": {
      "text/plain": [
       "9"
      ]
     },
     "execution_count": 53,
     "metadata": {},
     "output_type": "execute_result"
    }
   ],
   "source": [
    "np.max(arr1)"
   ]
  },
  {
   "cell_type": "code",
   "execution_count": 54,
   "id": "949589bc-5b17-4098-b32b-5ab0d4ec890d",
   "metadata": {},
   "outputs": [
    {
     "data": {
      "text/plain": [
       "1"
      ]
     },
     "execution_count": 54,
     "metadata": {},
     "output_type": "execute_result"
    }
   ],
   "source": [
    "np.min(arr1)"
   ]
  },
  {
   "cell_type": "code",
   "execution_count": 55,
   "id": "cdda4a9b-c701-404f-830e-0e2b2450d3f7",
   "metadata": {},
   "outputs": [],
   "source": [
    "#sort,search and counting function"
   ]
  },
  {
   "cell_type": "code",
   "execution_count": 56,
   "id": "2612851f-4198-4db0-bc30-03beddb85b9f",
   "metadata": {},
   "outputs": [],
   "source": [
    "import numpy as np"
   ]
  },
  {
   "cell_type": "code",
   "execution_count": 61,
   "id": "58e3d92a-ad15-4ac7-abc0-e97b1cba529d",
   "metadata": {},
   "outputs": [],
   "source": [
    "arr=np.random.randint(1,100,10)"
   ]
  },
  {
   "cell_type": "code",
   "execution_count": 62,
   "id": "d32e06ee-261b-4757-9867-e64a41bb8153",
   "metadata": {},
   "outputs": [
    {
     "data": {
      "text/plain": [
       "array([77, 10, 63, 28, 64, 61,  2, 22, 58, 93])"
      ]
     },
     "execution_count": 62,
     "metadata": {},
     "output_type": "execute_result"
    }
   ],
   "source": [
    "arr"
   ]
  },
  {
   "cell_type": "code",
   "execution_count": 63,
   "id": "4cf8fdf5-1418-479b-b178-43b9f2c110e5",
   "metadata": {},
   "outputs": [
    {
     "data": {
      "text/plain": [
       "array([ 2, 10, 22, 28, 58, 61, 63, 64, 77, 93])"
      ]
     },
     "execution_count": 63,
     "metadata": {},
     "output_type": "execute_result"
    }
   ],
   "source": [
    "np.sort(arr)"
   ]
  },
  {
   "cell_type": "code",
   "execution_count": 64,
   "id": "03a4ddd3-3e7f-4b97-b364-1d62d8ebbc8d",
   "metadata": {},
   "outputs": [
    {
     "data": {
      "text/plain": [
       "0"
      ]
     },
     "execution_count": 64,
     "metadata": {},
     "output_type": "execute_result"
    }
   ],
   "source": [
    "np.searchsorted(arr,2)"
   ]
  },
  {
   "cell_type": "code",
   "execution_count": 65,
   "id": "052c539e-ea10-41fa-ae08-927c6c107a24",
   "metadata": {},
   "outputs": [],
   "source": [
    "arr1=np.array([0,345,454,0,0,0,0,0])"
   ]
  },
  {
   "cell_type": "code",
   "execution_count": 66,
   "id": "d3cbe8fe-3cc9-4a49-bcef-95f8ba1875b5",
   "metadata": {},
   "outputs": [
    {
     "data": {
      "text/plain": [
       "2"
      ]
     },
     "execution_count": 66,
     "metadata": {},
     "output_type": "execute_result"
    }
   ],
   "source": [
    "np.count_nonzero(arr1)"
   ]
  },
  {
   "cell_type": "code",
   "execution_count": 67,
   "id": "3c23b4ad-f5e7-4ade-aa58-14ee6fc75d79",
   "metadata": {},
   "outputs": [
    {
     "data": {
      "text/plain": [
       "array([77, 10, 63, 28, 64, 61,  2, 22, 58, 93])"
      ]
     },
     "execution_count": 67,
     "metadata": {},
     "output_type": "execute_result"
    }
   ],
   "source": [
    "arr"
   ]
  },
  {
   "cell_type": "code",
   "execution_count": 68,
   "id": "dd6b4557-7c18-46a8-8019-d83f430326fc",
   "metadata": {},
   "outputs": [
    {
     "data": {
      "text/plain": [
       "(array([0, 1, 2, 3, 4, 5, 7, 8, 9]),)"
      ]
     },
     "execution_count": 68,
     "metadata": {},
     "output_type": "execute_result"
    }
   ],
   "source": [
    "np.where(arr>6)"
   ]
  },
  {
   "cell_type": "code",
   "execution_count": 69,
   "id": "e5f7e14d-06db-4a27-9e1b-7690bd696a0d",
   "metadata": {},
   "outputs": [
    {
     "data": {
      "text/plain": [
       "array([77, 10, 63, 28, 64, 61, 22, 58, 93])"
      ]
     },
     "execution_count": 69,
     "metadata": {},
     "output_type": "execute_result"
    }
   ],
   "source": [
    "np.extract(arr>3,arr)"
   ]
  },
  {
   "cell_type": "code",
   "execution_count": 70,
   "id": "8b1ded79-6fa2-4a3b-a93d-2df552c82755",
   "metadata": {},
   "outputs": [],
   "source": [
    "#Numpy -byte swapping"
   ]
  },
  {
   "cell_type": "code",
   "execution_count": 71,
   "id": "c96b8875-2aa5-4e84-b98d-897a91e92d64",
   "metadata": {},
   "outputs": [
    {
     "data": {
      "text/plain": [
       "array([77, 10, 63, 28, 64, 61,  2, 22, 58, 93])"
      ]
     },
     "execution_count": 71,
     "metadata": {},
     "output_type": "execute_result"
    }
   ],
   "source": [
    "arr"
   ]
  },
  {
   "cell_type": "code",
   "execution_count": 74,
   "id": "cb7a5cc0-eb48-4722-9625-ab9916f58c34",
   "metadata": {},
   "outputs": [
    {
     "data": {
      "text/plain": [
       "array([5548434740920451072,  720575940379279360, 4539628424389459968,\n",
       "       2017612633061982208, 4611686018427387904, 4395513236313604096,\n",
       "        144115188075855872, 1585267068834414592, 4179340454199820288,\n",
       "       6701356245527298048])"
      ]
     },
     "execution_count": 74,
     "metadata": {},
     "output_type": "execute_result"
    }
   ],
   "source": [
    "arr.byteswap() # shows the byte respresentation"
   ]
  },
  {
   "cell_type": "code",
   "execution_count": 75,
   "id": "d93b17c3-207c-408a-92bb-593816ffcaa8",
   "metadata": {},
   "outputs": [],
   "source": [
    "# Numpy - copies and views"
   ]
  },
  {
   "cell_type": "code",
   "execution_count": 80,
   "id": "4c5407b4-8bf0-4562-8fe3-15573641144b",
   "metadata": {},
   "outputs": [],
   "source": [
    "a=np.copy(arr) # deep copy"
   ]
  },
  {
   "cell_type": "code",
   "execution_count": 81,
   "id": "b88835e1-58f0-4686-ade0-def0f5807686",
   "metadata": {},
   "outputs": [],
   "source": [
    "b=arr.view() # swallow copy "
   ]
  },
  {
   "cell_type": "code",
   "execution_count": 82,
   "id": "c5f3d3bc-5806-456e-9cfc-2f83fbe48e3c",
   "metadata": {},
   "outputs": [
    {
     "data": {
      "text/plain": [
       "array([77, 10, 63, 28, 64, 61,  2, 22, 58, 93])"
      ]
     },
     "execution_count": 82,
     "metadata": {},
     "output_type": "execute_result"
    }
   ],
   "source": [
    "b"
   ]
  },
  {
   "cell_type": "code",
   "execution_count": 83,
   "id": "274d2bf2-12ba-468e-93e3-4b95b8170009",
   "metadata": {},
   "outputs": [
    {
     "data": {
      "text/plain": [
       "array([77, 10, 63, 28, 64, 61,  2, 22, 58, 93])"
      ]
     },
     "execution_count": 83,
     "metadata": {},
     "output_type": "execute_result"
    }
   ],
   "source": [
    "a"
   ]
  },
  {
   "cell_type": "code",
   "execution_count": 84,
   "id": "7644ade5-19a0-40e5-af43-9cca2474d61e",
   "metadata": {},
   "outputs": [],
   "source": [
    "# Numpy - matrix library"
   ]
  },
  {
   "cell_type": "code",
   "execution_count": 85,
   "id": "64660db1-6038-4f81-ada7-cfbb8999f7b4",
   "metadata": {},
   "outputs": [],
   "source": [
    "import numpy.matlib as nm"
   ]
  },
  {
   "cell_type": "code",
   "execution_count": 86,
   "id": "2fc0d568-a7ad-4e49-b06b-8cbfc3de1ce3",
   "metadata": {},
   "outputs": [
    {
     "data": {
      "text/plain": [
       "matrix([[0., 0., 0., 0., 0.]])"
      ]
     },
     "execution_count": 86,
     "metadata": {},
     "output_type": "execute_result"
    }
   ],
   "source": [
    "nm.zeros(5)"
   ]
  },
  {
   "cell_type": "code",
   "execution_count": 87,
   "id": "b235be60-85a8-4dee-b279-d12ff8a6df44",
   "metadata": {},
   "outputs": [
    {
     "data": {
      "text/plain": [
       "matrix([[1., 1., 1., 1.],\n",
       "        [1., 1., 1., 1.],\n",
       "        [1., 1., 1., 1.]])"
      ]
     },
     "execution_count": 87,
     "metadata": {},
     "output_type": "execute_result"
    }
   ],
   "source": [
    "nm.ones((3,4))"
   ]
  },
  {
   "cell_type": "code",
   "execution_count": 88,
   "id": "af68e50a-c63c-4698-a6e7-36561a51e917",
   "metadata": {},
   "outputs": [
    {
     "data": {
      "text/plain": [
       "matrix([[1., 0., 0., 0., 0.],\n",
       "        [0., 1., 0., 0., 0.],\n",
       "        [0., 0., 1., 0., 0.],\n",
       "        [0., 0., 0., 1., 0.],\n",
       "        [0., 0., 0., 0., 1.]])"
      ]
     },
     "execution_count": 88,
     "metadata": {},
     "output_type": "execute_result"
    }
   ],
   "source": [
    "nm.eye(5)"
   ]
  },
  {
   "cell_type": "code",
   "execution_count": 89,
   "id": "07cc6aa3-059d-417e-9868-872f937f4517",
   "metadata": {},
   "outputs": [],
   "source": [
    "# numpy - linear algebra"
   ]
  },
  {
   "cell_type": "code",
   "execution_count": 90,
   "id": "5f9b9d9b-8bb9-4c26-a962-db49d4f184d8",
   "metadata": {},
   "outputs": [],
   "source": [
    "arr1=np.random.randint([[2,3],[4,5]])"
   ]
  },
  {
   "cell_type": "code",
   "execution_count": 91,
   "id": "e481d3bc-a41f-4d57-b244-2dfe0bdc7df2",
   "metadata": {},
   "outputs": [
    {
     "data": {
      "text/plain": [
       "array([[0, 0],\n",
       "       [2, 2]])"
      ]
     },
     "execution_count": 91,
     "metadata": {},
     "output_type": "execute_result"
    }
   ],
   "source": [
    "arr1"
   ]
  },
  {
   "cell_type": "code",
   "execution_count": 92,
   "id": "e562d9ea-b114-4bbb-8095-34ce204e31bb",
   "metadata": {},
   "outputs": [],
   "source": [
    "arr2=np.random.randint([[5,3],[2,5]])"
   ]
  },
  {
   "cell_type": "code",
   "execution_count": 93,
   "id": "ade12859-84b6-4b94-afeb-b09789b9143c",
   "metadata": {},
   "outputs": [
    {
     "data": {
      "text/plain": [
       "array([[2, 1],\n",
       "       [1, 3]])"
      ]
     },
     "execution_count": 93,
     "metadata": {},
     "output_type": "execute_result"
    }
   ],
   "source": [
    "arr2"
   ]
  },
  {
   "cell_type": "code",
   "execution_count": 94,
   "id": "c6278663-c5cb-42f5-b70c-7bcc1c5b7ffe",
   "metadata": {},
   "outputs": [
    {
     "data": {
      "text/plain": [
       "array([[0, 0],\n",
       "       [6, 8]])"
      ]
     },
     "execution_count": 94,
     "metadata": {},
     "output_type": "execute_result"
    }
   ],
   "source": [
    "np.dot(arr1,arr2)"
   ]
  },
  {
   "cell_type": "code",
   "execution_count": 95,
   "id": "45bb3812-8272-43c7-83e9-cc7062d7f1bb",
   "metadata": {},
   "outputs": [
    {
     "data": {
      "text/plain": [
       "array([[0, 0],\n",
       "       [6, 8]])"
      ]
     },
     "execution_count": 95,
     "metadata": {},
     "output_type": "execute_result"
    }
   ],
   "source": [
    "arr1@arr2"
   ]
  },
  {
   "cell_type": "code",
   "execution_count": null,
   "id": "dd56f31d-519f-46ae-b97e-8e6c7df6b674",
   "metadata": {},
   "outputs": [],
   "source": []
  }
 ],
 "metadata": {
  "kernelspec": {
   "display_name": "Python 3 (ipykernel)",
   "language": "python",
   "name": "python3"
  },
  "language_info": {
   "codemirror_mode": {
    "name": "ipython",
    "version": 3
   },
   "file_extension": ".py",
   "mimetype": "text/x-python",
   "name": "python",
   "nbconvert_exporter": "python",
   "pygments_lexer": "ipython3",
   "version": "3.10.8"
  }
 },
 "nbformat": 4,
 "nbformat_minor": 5
}
