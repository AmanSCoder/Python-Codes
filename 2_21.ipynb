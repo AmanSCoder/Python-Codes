{
 "cells": [
  {
   "cell_type": "code",
   "execution_count": 1,
   "id": "83650ce6-715e-4c45-ab14-2a5074c8ff57",
   "metadata": {},
   "outputs": [],
   "source": [
    "import requests\n",
    "from bs4 import BeautifulSoup as bs\n",
    "from urllib.request import urlopen as uReq\n",
    "import logging"
   ]
  },
  {
   "cell_type": "code",
   "execution_count": 62,
   "id": "c2c6fb07-13c9-44d5-9de2-55f2e8b08ae7",
   "metadata": {},
   "outputs": [],
   "source": [
    "flipkart_url=\"https://www.flipkart.com/search?q=\"+\"redmi\""
   ]
  },
  {
   "cell_type": "code",
   "execution_count": 63,
   "id": "78510ef1-c314-428a-8f13-05f57215a749",
   "metadata": {},
   "outputs": [
    {
     "data": {
      "text/plain": [
       "'https://www.flipkart.com/search?q=redmi'"
      ]
     },
     "execution_count": 63,
     "metadata": {},
     "output_type": "execute_result"
    }
   ],
   "source": [
    "flipkart_url"
   ]
  },
  {
   "cell_type": "code",
   "execution_count": 64,
   "id": "c6252797-b190-41f0-abc5-6af02f0f0e0e",
   "metadata": {},
   "outputs": [],
   "source": [
    "urlclient =uReq(flipkart_url)"
   ]
  },
  {
   "cell_type": "code",
   "execution_count": 65,
   "id": "9ddeae74-1f9d-43de-bb0e-ab9d6d8826ba",
   "metadata": {},
   "outputs": [
    {
     "data": {
      "text/plain": [
       "<http.client.HTTPResponse at 0x7f01a3068f10>"
      ]
     },
     "execution_count": 65,
     "metadata": {},
     "output_type": "execute_result"
    }
   ],
   "source": [
    "urlclient"
   ]
  },
  {
   "cell_type": "code",
   "execution_count": 66,
   "id": "2ff59814-cfb3-412e-948d-2995c86ab3fb",
   "metadata": {},
   "outputs": [],
   "source": [
    "flipkart_page=urlclient.read()"
   ]
  },
  {
   "cell_type": "code",
   "execution_count": 67,
   "id": "790561ef-3c3d-4db1-9d3b-f40c30ee9291",
   "metadata": {},
   "outputs": [],
   "source": [
    "flipkart_html=bs(flipkart_page,'html.parser')"
   ]
  },
  {
   "cell_type": "code",
   "execution_count": 68,
   "id": "7bc44c91-4322-4997-bfe4-bdd080bc16c8",
   "metadata": {},
   "outputs": [],
   "source": [
    "bigbox=flipkart_html.findAll(\"div\",{'class':'_1AtVbE col-12-12'})"
   ]
  },
  {
   "cell_type": "code",
   "execution_count": 69,
   "id": "b20ec75a-7ac7-468e-ac92-a7554880519a",
   "metadata": {},
   "outputs": [
    {
     "data": {
      "text/plain": [
       "30"
      ]
     },
     "execution_count": 69,
     "metadata": {},
     "output_type": "execute_result"
    }
   ],
   "source": [
    "len(bigbox)"
   ]
  },
  {
   "cell_type": "code",
   "execution_count": 70,
   "id": "21a0425b-acb0-4069-b449-69f51d969375",
   "metadata": {},
   "outputs": [],
   "source": [
    "del bigbox[0:3]"
   ]
  },
  {
   "cell_type": "code",
   "execution_count": 71,
   "id": "e06128bf-04e0-44f9-8dfc-17f8ae97833d",
   "metadata": {},
   "outputs": [
    {
     "data": {
      "text/plain": [
       "27"
      ]
     },
     "execution_count": 71,
     "metadata": {},
     "output_type": "execute_result"
    }
   ],
   "source": [
    "len(bigbox)"
   ]
  },
  {
   "cell_type": "code",
   "execution_count": 72,
   "id": "7e415274-289b-46f9-a221-2349a73dcce9",
   "metadata": {},
   "outputs": [],
   "source": [
    "productlink=\"https://www.flipkart.com\"+bigbox[3].div.div.div.a['href']"
   ]
  },
  {
   "cell_type": "code",
   "execution_count": 73,
   "id": "3447f4de-d55f-42aa-ad66-9d93e493c9d3",
   "metadata": {},
   "outputs": [],
   "source": [
    "product_req=requests.get(productlink)"
   ]
  },
  {
   "cell_type": "code",
   "execution_count": 74,
   "id": "3816ecc5-e71e-42de-9c48-4e796b432e5b",
   "metadata": {},
   "outputs": [],
   "source": [
    "product_html=bs(product_req.text,'html.parser')"
   ]
  },
  {
   "cell_type": "code",
   "execution_count": 75,
   "id": "45e081d9-434e-4859-9408-034146136dde",
   "metadata": {},
   "outputs": [],
   "source": [
    "comment_box=product_html.findAll('div',{'class':'_16PBlm'})"
   ]
  },
  {
   "cell_type": "code",
   "execution_count": 76,
   "id": "3a02e7d6-b297-4148-a112-d845b33273c3",
   "metadata": {},
   "outputs": [
    {
     "data": {
      "text/plain": [
       "11"
      ]
     },
     "execution_count": 76,
     "metadata": {},
     "output_type": "execute_result"
    }
   ],
   "source": [
    "len(comment_box)"
   ]
  },
  {
   "cell_type": "code",
   "execution_count": 77,
   "id": "6f444c91-4f16-43ea-a2e1-fe27ff4721f4",
   "metadata": {},
   "outputs": [
    {
     "name": "stdout",
     "output_type": "stream",
     "text": [
      "\n",
      "Flipkart Customer\n",
      "Abhinav  Priyadarshi\n",
      "Fajlul Karim\n",
      "Ramdev Sarswat\n",
      "Pankaj Goswami\n",
      "Flipkart Customer\n",
      "\n",
      "Nithi D\n",
      "Ajzar\n"
     ]
    },
    {
     "ename": "AttributeError",
     "evalue": "'NoneType' object has no attribute 'div'",
     "output_type": "error",
     "traceback": [
      "\u001b[0;31m---------------------------------------------------------------------------\u001b[0m",
      "\u001b[0;31mAttributeError\u001b[0m                            Traceback (most recent call last)",
      "Cell \u001b[0;32mIn[77], line 2\u001b[0m\n\u001b[1;32m      1\u001b[0m \u001b[38;5;28;01mfor\u001b[39;00m i \u001b[38;5;129;01min\u001b[39;00m comment_box:\n\u001b[0;32m----> 2\u001b[0m \t\u001b[38;5;28mprint\u001b[39m(\u001b[43mi\u001b[49m\u001b[38;5;241;43m.\u001b[39;49m\u001b[43mdiv\u001b[49m\u001b[38;5;241;43m.\u001b[39;49m\u001b[43mdiv\u001b[49m\u001b[38;5;241m.\u001b[39mfind_all(\u001b[38;5;124m'\u001b[39m\u001b[38;5;124mp\u001b[39m\u001b[38;5;124m'\u001b[39m,{\u001b[38;5;124m'\u001b[39m\u001b[38;5;124mclass\u001b[39m\u001b[38;5;124m'\u001b[39m:\u001b[38;5;124m\"\u001b[39m\u001b[38;5;124m_2sc7ZR _2V5EHH\u001b[39m\u001b[38;5;124m\"\u001b[39m})[\u001b[38;5;241m0\u001b[39m]\u001b[38;5;241m.\u001b[39mtext)\n",
      "\u001b[0;31mAttributeError\u001b[0m: 'NoneType' object has no attribute 'div'"
     ]
    }
   ],
   "source": [
    "flen(comment_box)"
   ]
  },
  {
   "cell_type": "code",
   "execution_count": 78,
   "id": "6d7a8e0e-2e06-4d0b-abc8-e9e4562a3825",
   "metadata": {},
   "outputs": [
    {
     "name": "stdout",
     "output_type": "stream",
     "text": [
      "4\n",
      "5\n",
      "4\n",
      "5\n",
      "1\n",
      "1\n",
      "5\n",
      "4\n",
      "4\n",
      "5\n"
     ]
    },
    {
     "ename": "AttributeError",
     "evalue": "'NoneType' object has no attribute 'div'",
     "output_type": "error",
     "traceback": [
      "\u001b[0;31m---------------------------------------------------------------------------\u001b[0m",
      "\u001b[0;31mAttributeError\u001b[0m                            Traceback (most recent call last)",
      "Cell \u001b[0;32mIn[78], line 2\u001b[0m\n\u001b[1;32m      1\u001b[0m \u001b[38;5;28;01mfor\u001b[39;00m i \u001b[38;5;129;01min\u001b[39;00m comment_box:\n\u001b[0;32m----> 2\u001b[0m     \u001b[38;5;28mprint\u001b[39m(\u001b[43mi\u001b[49m\u001b[38;5;241;43m.\u001b[39;49m\u001b[43mdiv\u001b[49m\u001b[38;5;241;43m.\u001b[39;49m\u001b[43mdiv\u001b[49m\u001b[38;5;241m.\u001b[39mdiv\u001b[38;5;241m.\u001b[39mdiv\u001b[38;5;241m.\u001b[39mtext)\n",
      "\u001b[0;31mAttributeError\u001b[0m: 'NoneType' object has no attribute 'div'"
     ]
    }
   ],
   "source": [
    "for i in comment_box:\n",
    "    print(i.div.div.div.div.text)"
   ]
  },
  {
   "cell_type": "code",
   "execution_count": 79,
   "id": "8171839c-42ec-4bfb-a090-355c29cd19d2",
   "metadata": {},
   "outputs": [
    {
     "name": "stdout",
     "output_type": "stream",
     "text": [
      "Value-for-money\n",
      "Highly recommended\n",
      "Delightful\n",
      "Super!\n",
      "Terrible product\n",
      "Worst experience ever!\n",
      "Mind-blowing purchase\n",
      "Good quality product\n",
      "Good phone in the price range\n",
      "Highly recommended\n"
     ]
    },
    {
     "ename": "AttributeError",
     "evalue": "'NoneType' object has no attribute 'div'",
     "output_type": "error",
     "traceback": [
      "\u001b[0;31m---------------------------------------------------------------------------\u001b[0m",
      "\u001b[0;31mAttributeError\u001b[0m                            Traceback (most recent call last)",
      "Cell \u001b[0;32mIn[79], line 2\u001b[0m\n\u001b[1;32m      1\u001b[0m \u001b[38;5;28;01mfor\u001b[39;00m i \u001b[38;5;129;01min\u001b[39;00m comment_box:\n\u001b[0;32m----> 2\u001b[0m     \u001b[38;5;28mprint\u001b[39m(\u001b[43mi\u001b[49m\u001b[38;5;241;43m.\u001b[39;49m\u001b[43mdiv\u001b[49m\u001b[38;5;241;43m.\u001b[39;49m\u001b[43mdiv\u001b[49m\u001b[38;5;241m.\u001b[39mdiv\u001b[38;5;241m.\u001b[39mp\u001b[38;5;241m.\u001b[39mtext)\n",
      "\u001b[0;31mAttributeError\u001b[0m: 'NoneType' object has no attribute 'div'"
     ]
    }
   ],
   "source": [
    "for i in comment_box:\n",
    "    print(i.div.div.div.p.text)"
   ]
  },
  {
   "cell_type": "code",
   "execution_count": 80,
   "id": "e6440b25-6b35-4cad-8e67-f3375d43de4e",
   "metadata": {},
   "outputs": [
    {
     "name": "stdout",
     "output_type": "stream",
     "text": [
      "Nice mobile. Good for daily use and very good performance,display very smooth,battry good and all conditions very good 👍\n",
      "good camera\n",
      "After almost 2 months of use i think you can go for it for minimum budget\n",
      "Awesome product\n",
      "Hanging problem in mobile ,  Please don't purchase ...\n",
      "Worst phone i had ever used. Better to buy Realme phones.\n",
      "Very nice phone\n",
      "Super\n",
      "It's a good buy, but the finger print sensor is not that responsive.  Don't go for it if you prefer a smaller size phone, it looks huge in my tiny hands\n",
      "Nice product under 10k\n"
     ]
    },
    {
     "ename": "AttributeError",
     "evalue": "'NoneType' object has no attribute 'div'",
     "output_type": "error",
     "traceback": [
      "\u001b[0;31m---------------------------------------------------------------------------\u001b[0m",
      "\u001b[0;31mAttributeError\u001b[0m                            Traceback (most recent call last)",
      "Cell \u001b[0;32mIn[80], line 2\u001b[0m\n\u001b[1;32m      1\u001b[0m \u001b[38;5;28;01mfor\u001b[39;00m i \u001b[38;5;129;01min\u001b[39;00m comment_box:\n\u001b[0;32m----> 2\u001b[0m     \u001b[38;5;28mprint\u001b[39m(\u001b[43mi\u001b[49m\u001b[38;5;241;43m.\u001b[39;49m\u001b[43mdiv\u001b[49m\u001b[38;5;241;43m.\u001b[39;49m\u001b[43mdiv\u001b[49m\u001b[38;5;241m.\u001b[39mfind_all(\u001b[38;5;124m'\u001b[39m\u001b[38;5;124mdiv\u001b[39m\u001b[38;5;124m'\u001b[39m,{\u001b[38;5;124m'\u001b[39m\u001b[38;5;124mclass\u001b[39m\u001b[38;5;124m'\u001b[39m:\u001b[38;5;124m\"\u001b[39m\u001b[38;5;124m\"\u001b[39m})[\u001b[38;5;241m0\u001b[39m]\u001b[38;5;241m.\u001b[39mdiv\u001b[38;5;241m.\u001b[39mtext)\n",
      "\u001b[0;31mAttributeError\u001b[0m: 'NoneType' object has no attribute 'div'"
     ]
    }
   ],
   "source": [
    "for i in comment_box:\n",
    "    print(i.div.div.find_all('div',{'class':\"\"})[0].div.text)"
   ]
  },
  {
   "cell_type": "code",
   "execution_count": null,
   "id": "515e34b8-be98-41a4-8dd4-0509d2bdd426",
   "metadata": {},
   "outputs": [],
   "source": []
  },
  {
   "cell_type": "code",
   "execution_count": null,
   "id": "c3d0d51a-711c-461b-82c4-8e0af55d2936",
   "metadata": {},
   "outputs": [],
   "source": []
  },
  {
   "cell_type": "code",
   "execution_count": null,
   "id": "6e8ce43b-50ff-4a2c-8889-5c3ab133b371",
   "metadata": {},
   "outputs": [],
   "source": []
  },
  {
   "cell_type": "code",
   "execution_count": null,
   "id": "5acb1127-60b4-46c9-a550-c90829d006fe",
   "metadata": {},
   "outputs": [],
   "source": []
  },
  {
   "cell_type": "code",
   "execution_count": 81,
   "id": "946aed3e-ba0d-4856-8c95-76145c97c019",
   "metadata": {},
   "outputs": [
    {
     "name": "stdout",
     "output_type": "stream",
     "text": [
      "https://www.flipkart.com/redmi-10-midnight-black-128-gb/p/itm68b3d276eda8c?pid=MOBGC9GYX2QQXKWK&lid=LSTMOBGC9GYX2QQXKWKH9UCNR&marketplace=FLIPKART&q=redmi&store=tyy%2F4io&srno=s_1_2&otracker=search&fm=organic&iid=ceef2a1b-b679-406a-bdf1-56784d765234.MOBGC9GYX2QQXKWK.SEARCH&ppt=None&ppn=None&ssid=vtjdjaerxc0000001683099627773&qH=9b6bf0057c19bd94\n",
      "https://www.flipkart.com/redmi-a1-light-green-32-gb/p/itmecc9e7ba0a1df?pid=MOBGGYBAHSAJVKHP&lid=LSTMOBGGYBAHSAJVKHPLQ4OVB&marketplace=FLIPKART&q=redmi&store=tyy%2F4io&srno=s_1_3&otracker=search&fm=organic&iid=ceef2a1b-b679-406a-bdf1-56784d765234.MOBGGYBAHSAJVKHP.SEARCH&ppt=None&ppn=None&ssid=vtjdjaerxc0000001683099627773&qH=9b6bf0057c19bd94\n",
      "https://www.flipkart.com/redmi-10-midnight-black-64-gb/p/itmd93641e4ebb47?pid=MOBGC9GYEBH3GZ4E&lid=LSTMOBGC9GYEBH3GZ4E44YY0L&marketplace=FLIPKART&q=redmi&store=tyy%2F4io&spotlightTagId=BestsellerId_tyy%2F4io&srno=s_1_4&otracker=search&fm=organic&iid=ceef2a1b-b679-406a-bdf1-56784d765234.MOBGC9GYEBH3GZ4E.SEARCH&ppt=None&ppn=None&ssid=vtjdjaerxc0000001683099627773&qH=9b6bf0057c19bd94\n",
      "https://www.flipkart.com/redmi-a1-black-32-gb/p/itm70b00a77a7d1d?pid=MOBGGYBABVXHHRDQ&lid=LSTMOBGGYBABVXHHRDQTMWLXJ&marketplace=FLIPKART&q=redmi&store=tyy%2F4io&srno=s_1_5&otracker=search&fm=organic&iid=ceef2a1b-b679-406a-bdf1-56784d765234.MOBGGYBABVXHHRDQ.SEARCH&ppt=None&ppn=None&ssid=vtjdjaerxc0000001683099627773&qH=9b6bf0057c19bd94\n",
      "https://www.flipkart.com/redmi-10-caribbean-green-128-gb/p/itm2389889c22bf0?pid=MOBGC9GYQVJHKH76&lid=LSTMOBGC9GYQVJHKH76IXAL5V&marketplace=FLIPKART&q=redmi&store=tyy%2F4io&srno=s_1_6&otracker=search&fm=organic&iid=ceef2a1b-b679-406a-bdf1-56784d765234.MOBGC9GYQVJHKH76.SEARCH&ppt=None&ppn=None&ssid=vtjdjaerxc0000001683099627773&qH=9b6bf0057c19bd94\n",
      "https://www.flipkart.com/redmi-10-pacific-blue-64-gb/p/itm0f2a6a2112b75?pid=MOBGC9GYCHQZK9GW&lid=LSTMOBGC9GYCHQZK9GW8N0WII&marketplace=FLIPKART&q=redmi&store=tyy%2F4io&spotlightTagId=BestsellerId_tyy%2F4io&srno=s_1_7&otracker=search&fm=organic&iid=ceef2a1b-b679-406a-bdf1-56784d765234.MOBGC9GYCHQZK9GW.SEARCH&ppt=None&ppn=None&ssid=vtjdjaerxc0000001683099627773&qH=9b6bf0057c19bd94\n",
      "https://www.flipkart.com/redmi-10-pacific-blue-128-gb/p/itmeee56f3526c69?pid=MOBGC9GYMXA2XAH4&lid=LSTMOBGC9GYMXA2XAH4QEHS0T&marketplace=FLIPKART&q=redmi&store=tyy%2F4io&srno=s_1_8&otracker=search&fm=organic&iid=ceef2a1b-b679-406a-bdf1-56784d765234.MOBGC9GYMXA2XAH4.SEARCH&ppt=None&ppn=None&ssid=vtjdjaerxc0000001683099627773&qH=9b6bf0057c19bd94\n",
      "https://www.flipkart.com/redmi-10-caribbean-green-64-gb/p/itmbfb8dfcdd6e10?pid=MOBGC9GYQGGKWEU3&lid=LSTMOBGC9GYQGGKWEU3SLBNSD&marketplace=FLIPKART&q=redmi&store=tyy%2F4io&srno=s_1_9&otracker=search&fm=organic&iid=ceef2a1b-b679-406a-bdf1-56784d765234.MOBGC9GYQGGKWEU3.SEARCH&ppt=None&ppn=None&ssid=vtjdjaerxc0000001683099627773&qH=9b6bf0057c19bd94\n",
      "https://www.flipkart.com/redmi-10-shadow-black-64-gb/p/itm0f35cd8b62294?pid=MOBGMPHFVU6NNDH5&lid=LSTMOBGMPHFVU6NNDH5AK0YVP&marketplace=FLIPKART&q=redmi&store=tyy%2F4io&srno=s_1_10&otracker=search&fm=organic&iid=ceef2a1b-b679-406a-bdf1-56784d765234.MOBGMPHFVU6NNDH5.SEARCH&ppt=None&ppn=None&ssid=vtjdjaerxc0000001683099627773&qH=9b6bf0057c19bd94\n",
      "https://www.flipkart.com/redmi-11-prime-playful-green-64-gb/p/itm3df03ddd7739e?pid=MOBGZHFGRXY7H6XH&lid=LSTMOBGZHFGRXY7H6XH1PCBWG&marketplace=FLIPKART&q=redmi&store=tyy%2F4io&srno=s_1_11&otracker=search&fm=organic&iid=ceef2a1b-b679-406a-bdf1-56784d765234.MOBGZHFGRXY7H6XH.SEARCH&ppt=None&ppn=None&ssid=vtjdjaerxc0000001683099627773&qH=9b6bf0057c19bd94\n",
      "https://www.flipkart.com/redmi-11-prime-peppy-purple-64-gb/p/itm6c82e6d7f5790?pid=MOBGZHFGV49WM2TC&lid=LSTMOBGZHFGV49WM2TCOOW4U6&marketplace=FLIPKART&q=redmi&store=tyy%2F4io&srno=s_1_12&otracker=search&fm=organic&iid=ceef2a1b-b679-406a-bdf1-56784d765234.MOBGZHFGV49WM2TC.SEARCH&ppt=None&ppn=None&ssid=vtjdjaerxc0000001683099627773&qH=9b6bf0057c19bd94\n",
      "https://www.flipkart.com/redmi-10-sunrise-orange-64-gb/p/itmae4c7ad2665f3?pid=MOBGMPHF9TDM2MM3&lid=LSTMOBGMPHF9TDM2MM39RM7JR&marketplace=FLIPKART&q=redmi&store=tyy%2F4io&srno=s_1_13&otracker=search&fm=organic&iid=ceef2a1b-b679-406a-bdf1-56784d765234.MOBGMPHF9TDM2MM3.SEARCH&ppt=None&ppn=None&ssid=vtjdjaerxc0000001683099627773&qH=9b6bf0057c19bd94\n",
      "https://www.flipkart.com/redmi-a1-black-32-gb/p/itma613ca74c6f06?pid=MOBGHFFTYPRZSYZU&lid=LSTMOBGHFFTYPRZSYZUN5MMZH&marketplace=FLIPKART&q=redmi&store=tyy%2F4io&srno=s_1_14&otracker=search&fm=organic&iid=ceef2a1b-b679-406a-bdf1-56784d765234.MOBGHFFTYPRZSYZU.SEARCH&ppt=None&ppn=None&ssid=vtjdjaerxc0000001683099627773&qH=9b6bf0057c19bd94\n",
      "https://www.flipkart.com/redmi-note-12-ice-blue-64-gb/p/itmee415766dfc1a?pid=MOBGNYHZYZ4CNTCM&lid=LSTMOBGNYHZYZ4CNTCM3CCSA7&marketplace=FLIPKART&q=redmi&store=tyy%2F4io&srno=s_1_15&otracker=search&fm=organic&iid=ceef2a1b-b679-406a-bdf1-56784d765234.MOBGNYHZYZ4CNTCM.SEARCH&ppt=None&ppn=None&ssid=vtjdjaerxc0000001683099627773&qH=9b6bf0057c19bd94\n",
      "https://www.flipkart.com/redmi-11-prime-flashy-black-64-gb/p/itm56fca6d990593?pid=MOBGZHFGHJ5KNNPN&lid=LSTMOBGZHFGHJ5KNNPNOWYRYT&marketplace=FLIPKART&q=redmi&store=tyy%2F4io&srno=s_1_16&otracker=search&fm=organic&iid=ceef2a1b-b679-406a-bdf1-56784d765234.MOBGZHFGHJ5KNNPN.SEARCH&ppt=None&ppn=None&ssid=vtjdjaerxc0000001683099627773&qH=9b6bf0057c19bd94\n",
      "https://www.flipkart.com/redmi-note-12-sunrise-gold-64-gb/p/itm5d170187bcbf0?pid=MOBGNYHZ7ZGHES2V&lid=LSTMOBGNYHZ7ZGHES2VQILAET&marketplace=FLIPKART&q=redmi&store=tyy%2F4io&srno=s_1_17&otracker=search&fm=organic&iid=ceef2a1b-b679-406a-bdf1-56784d765234.MOBGNYHZ7ZGHES2V.SEARCH&ppt=None&ppn=None&ssid=vtjdjaerxc0000001683099627773&qH=9b6bf0057c19bd94\n",
      "https://www.flipkart.com/redmi-note-12-pro-5g-stardust-purple-128-gb/p/itm26c8ff9d1f226?pid=MOBGH2UVWWDA4MS6&lid=LSTMOBGH2UVWWDA4MS6M7LVCT&marketplace=FLIPKART&q=redmi&store=tyy%2F4io&srno=s_1_18&otracker=search&fm=organic&iid=ceef2a1b-b679-406a-bdf1-56784d765234.MOBGH2UVWWDA4MS6.SEARCH&ppt=None&ppn=None&ssid=vtjdjaerxc0000001683099627773&qH=9b6bf0057c19bd94\n",
      "https://www.flipkart.com/redmi-a1-black-32-gb/p/itm7c286db936fbd?pid=MOBGGYBACTBNBYEG&lid=LSTMOBGGYBACTBNBYEGH1DDFB&marketplace=FLIPKART&q=redmi&store=tyy%2F4io&srno=s_1_19&otracker=search&fm=organic&iid=ceef2a1b-b679-406a-bdf1-56784d765234.MOBGGYBACTBNBYEG.SEARCH&ppt=None&ppn=None&ssid=vtjdjaerxc0000001683099627773&qH=9b6bf0057c19bd94\n",
      "https://www.flipkart.com/redmi-note-12-pro-5g-glacier-blue-128-gb/p/itm8fbee21008560?pid=MOBGH2UVZHHQGRRP&lid=LSTMOBGH2UVZHHQGRRPHUPSMM&marketplace=FLIPKART&q=redmi&store=tyy%2F4io&srno=s_1_20&otracker=search&fm=organic&iid=ceef2a1b-b679-406a-bdf1-56784d765234.MOBGH2UVZHHQGRRP.SEARCH&ppt=None&ppn=None&ssid=vtjdjaerxc0000001683099627773&qH=9b6bf0057c19bd94\n",
      "https://www.flipkart.com/redmi-note-12-lunar-black-64-gb/p/itm6756d6e7a86be?pid=MOBGNYHZJGGE3ZHM&lid=LSTMOBGNYHZJGGE3ZHMWSTXBO&marketplace=FLIPKART&q=redmi&store=tyy%2F4io&srno=s_1_21&otracker=search&fm=organic&iid=ceef2a1b-b679-406a-bdf1-56784d765234.MOBGNYHZJGGE3ZHM.SEARCH&ppt=None&ppn=None&ssid=vtjdjaerxc0000001683099627773&qH=9b6bf0057c19bd94\n",
      "https://www.flipkart.com/redmi-11-prime-peppy-purple-128-gb/p/itm52d6b0fe396e9?pid=MOBGZHFGUHYSHQYM&lid=LSTMOBGZHFGUHYSHQYMWGOOJ0&marketplace=FLIPKART&q=redmi&store=tyy%2F4io&srno=s_1_22&otracker=search&fm=organic&iid=ceef2a1b-b679-406a-bdf1-56784d765234.MOBGZHFGUHYSHQYM.SEARCH&ppt=None&ppn=None&ssid=vtjdjaerxc0000001683099627773&qH=9b6bf0057c19bd94\n",
      "https://www.flipkart.com/redmi-11-prime-flashy-black-128-gb/p/itm01f508ea28ab0?pid=MOBGZHFGNDNWAZKZ&lid=LSTMOBGZHFGNDNWAZKZUMANTL&marketplace=FLIPKART&q=redmi&store=tyy%2F4io&srno=s_1_23&otracker=search&fm=organic&iid=ceef2a1b-b679-406a-bdf1-56784d765234.MOBGZHFGNDNWAZKZ.SEARCH&ppt=None&ppn=None&ssid=vtjdjaerxc0000001683099627773&qH=9b6bf0057c19bd94\n",
      "https://www.flipkart.com/redmi-note-12-ice-blue-128-gb/p/itm2da5f94ce4dc4?pid=MOBGNYHZSVSHGUWF&lid=LSTMOBGNYHZSVSHGUWFUGCTSG&marketplace=FLIPKART&q=redmi&store=tyy%2F4io&srno=s_1_24&otracker=search&fm=organic&iid=ceef2a1b-b679-406a-bdf1-56784d765234.MOBGNYHZSVSHGUWF.SEARCH&ppt=None&ppn=None&ssid=vtjdjaerxc0000001683099627773&qH=9b6bf0057c19bd94\n"
     ]
    },
    {
     "ename": "AttributeError",
     "evalue": "'NoneType' object has no attribute 'a'",
     "output_type": "error",
     "traceback": [
      "\u001b[0;31m---------------------------------------------------------------------------\u001b[0m",
      "\u001b[0;31mAttributeError\u001b[0m                            Traceback (most recent call last)",
      "Cell \u001b[0;32mIn[81], line 2\u001b[0m\n\u001b[1;32m      1\u001b[0m \u001b[38;5;28;01mfor\u001b[39;00m i \u001b[38;5;129;01min\u001b[39;00m bigbox:\n\u001b[0;32m----> 2\u001b[0m     \u001b[38;5;28mprint\u001b[39m(\u001b[38;5;124m\"\u001b[39m\u001b[38;5;124mhttps://www.flipkart.com\u001b[39m\u001b[38;5;124m\"\u001b[39m\u001b[38;5;241m+\u001b[39m\u001b[43mi\u001b[49m\u001b[38;5;241;43m.\u001b[39;49m\u001b[43mdiv\u001b[49m\u001b[38;5;241;43m.\u001b[39;49m\u001b[43mdiv\u001b[49m\u001b[38;5;241;43m.\u001b[39;49m\u001b[43mdiv\u001b[49m\u001b[38;5;241;43m.\u001b[39;49m\u001b[43ma\u001b[49m[\u001b[38;5;124m'\u001b[39m\u001b[38;5;124mhref\u001b[39m\u001b[38;5;124m'\u001b[39m])\n",
      "\u001b[0;31mAttributeError\u001b[0m: 'NoneType' object has no attribute 'a'"
     ]
    }
   ],
   "source": [
    "for i in bigbox:\n",
    "    print(\"https://www.flipkart.com\"+i.div.div.div.a['href'])"
   ]
  },
  {
   "cell_type": "code",
   "execution_count": null,
   "id": "881830f8-3a02-4343-ac93-6b82e63c49c7",
   "metadata": {},
   "outputs": [],
   "source": []
  },
  {
   "cell_type": "code",
   "execution_count": null,
   "id": "094ef856-33cb-458e-b2ab-92b3dab6ca07",
   "metadata": {},
   "outputs": [],
   "source": []
  }
 ],
 "metadata": {
  "kernelspec": {
   "display_name": "Python 3 (ipykernel)",
   "language": "python",
   "name": "python3"
  },
  "language_info": {
   "codemirror_mode": {
    "name": "ipython",
    "version": 3
   },
   "file_extension": ".py",
   "mimetype": "text/x-python",
   "name": "python",
   "nbconvert_exporter": "python",
   "pygments_lexer": "ipython3",
   "version": "3.10.8"
  }
 },
 "nbformat": 4,
 "nbformat_minor": 5
}
