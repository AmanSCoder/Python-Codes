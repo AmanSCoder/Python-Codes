{
 "cells": [
  {
   "cell_type": "code",
   "execution_count": 1,
   "id": "825760bc-f57c-4bee-b457-58667e7715c8",
   "metadata": {},
   "outputs": [],
   "source": [
    "f=open(\"test.txt\",'w')"
   ]
  },
  {
   "cell_type": "code",
   "execution_count": 2,
   "id": "63d69fb7-975c-46a6-b4ee-4bfb5d494b92",
   "metadata": {},
   "outputs": [
    {
     "data": {
      "text/plain": [
       "'/home/jovyan/work'"
      ]
     },
     "execution_count": 2,
     "metadata": {},
     "output_type": "execute_result"
    }
   ],
   "source": [
    "pwd"
   ]
  },
  {
   "cell_type": "code",
   "execution_count": 3,
   "id": "412386ca-d119-4b57-9fb7-e3901ea0f90b",
   "metadata": {},
   "outputs": [
    {
     "name": "stdout",
     "output_type": "stream",
     "text": [
      "1_30.ipynb  2_11.ipynb  2__3.ipynb  2__8.ipynb         test.txt\n",
      "1_31.ipynb  2__1.ipynb  2__4.ipynb  README.md          \u001b[0m\u001b[01;34mwork\u001b[0m/\n",
      "2_10.ipynb  2__2.ipynb  2__5.ipynb  sample-code.ipynb\n"
     ]
    }
   ],
   "source": [
    "ls"
   ]
  },
  {
   "cell_type": "code",
   "execution_count": 4,
   "id": "c021d4fb-ced5-45ae-9554-9097f6397f23",
   "metadata": {},
   "outputs": [
    {
     "name": "stdout",
     "output_type": "stream",
     "text": [
      "/home/jovyan/work/work\n"
     ]
    }
   ],
   "source": [
    "cd work"
   ]
  },
  {
   "cell_type": "code",
   "execution_count": 5,
   "id": "18aa061f-ce7d-4c22-a590-dc67f5ae7a3f",
   "metadata": {},
   "outputs": [],
   "source": [
    "f=open(\"test.txt\",'w')"
   ]
  },
  {
   "cell_type": "code",
   "execution_count": 6,
   "id": "cca16116-591f-4c4f-936e-0f0c9505be29",
   "metadata": {},
   "outputs": [
    {
     "name": "stdout",
     "output_type": "stream",
     "text": [
      "test.txt\n"
     ]
    }
   ],
   "source": [
    "ls"
   ]
  },
  {
   "cell_type": "code",
   "execution_count": 7,
   "id": "b25d0ce6-f851-40b3-b8ee-70bb8b003b69",
   "metadata": {},
   "outputs": [
    {
     "data": {
      "text/plain": [
       "30"
      ]
     },
     "execution_count": 7,
     "metadata": {},
     "output_type": "execute_result"
    }
   ],
   "source": [
    "f.write(\"this is my first file to write\")"
   ]
  },
  {
   "cell_type": "code",
   "execution_count": 8,
   "id": "5084c337-446a-4518-a224-8fc81efc82f7",
   "metadata": {},
   "outputs": [],
   "source": [
    "f.close()"
   ]
  },
  {
   "cell_type": "code",
   "execution_count": 9,
   "id": "1d2944c2-d16e-4b9c-bf87-9d7e3a04594f",
   "metadata": {},
   "outputs": [],
   "source": [
    "# 'a' mode doesnt truncates the content of the file"
   ]
  },
  {
   "cell_type": "code",
   "execution_count": 10,
   "id": "11d8c95b-0895-42f0-bb36-f4d2ea5dd241",
   "metadata": {},
   "outputs": [],
   "source": [
    "# 'w' truncates the data"
   ]
  },
  {
   "cell_type": "code",
   "execution_count": 11,
   "id": "335e99ef-b739-4edf-b5d7-3e9b2154bc8b",
   "metadata": {},
   "outputs": [],
   "source": [
    "f=open(\"test.txt\",'r')"
   ]
  },
  {
   "cell_type": "code",
   "execution_count": 12,
   "id": "b67c2462-1571-4c1d-bc32-55d0c39375c6",
   "metadata": {},
   "outputs": [
    {
     "data": {
      "text/plain": [
       "'this is my first file to write'"
      ]
     },
     "execution_count": 12,
     "metadata": {},
     "output_type": "execute_result"
    }
   ],
   "source": [
    "f.read()"
   ]
  },
  {
   "cell_type": "code",
   "execution_count": 13,
   "id": "563f35bd-4572-4f7c-9589-399bb71b5d63",
   "metadata": {},
   "outputs": [
    {
     "data": {
      "text/plain": [
       "''"
      ]
     },
     "execution_count": 13,
     "metadata": {},
     "output_type": "execute_result"
    }
   ],
   "source": [
    "f.readline()"
   ]
  },
  {
   "cell_type": "code",
   "execution_count": 14,
   "id": "4c028e77-341d-4130-bce6-7b34d1ba5a4b",
   "metadata": {},
   "outputs": [
    {
     "data": {
      "text/plain": [
       "0"
      ]
     },
     "execution_count": 14,
     "metadata": {},
     "output_type": "execute_result"
    }
   ],
   "source": [
    "f.seek(0)"
   ]
  },
  {
   "cell_type": "code",
   "execution_count": 15,
   "id": "cf724f56-013f-4409-8a02-998669340ee1",
   "metadata": {},
   "outputs": [
    {
     "data": {
      "text/plain": [
       "'this is my first file to write'"
      ]
     },
     "execution_count": 15,
     "metadata": {},
     "output_type": "execute_result"
    }
   ],
   "source": [
    "f.readline()"
   ]
  },
  {
   "cell_type": "code",
   "execution_count": 16,
   "id": "b88aafa1-7a89-4916-a983-0e86f0a7532e",
   "metadata": {},
   "outputs": [
    {
     "data": {
      "text/plain": [
       "''"
      ]
     },
     "execution_count": 16,
     "metadata": {},
     "output_type": "execute_result"
    }
   ],
   "source": [
    "f.readline()"
   ]
  },
  {
   "cell_type": "code",
   "execution_count": 17,
   "id": "503947d9-04fd-45a0-9098-2d5e68c503f1",
   "metadata": {},
   "outputs": [
    {
     "data": {
      "text/plain": [
       "5"
      ]
     },
     "execution_count": 17,
     "metadata": {},
     "output_type": "execute_result"
    }
   ],
   "source": [
    "f.seek(5)"
   ]
  },
  {
   "cell_type": "code",
   "execution_count": 18,
   "id": "692e84b9-8c1a-4933-ba2d-17344e5666e3",
   "metadata": {},
   "outputs": [
    {
     "data": {
      "text/plain": [
       "'is my first file to write'"
      ]
     },
     "execution_count": 18,
     "metadata": {},
     "output_type": "execute_result"
    }
   ],
   "source": [
    "f.readline()"
   ]
  },
  {
   "cell_type": "code",
   "execution_count": 19,
   "id": "ea9ea102-1922-4678-a6be-0c4d8dd183ab",
   "metadata": {},
   "outputs": [],
   "source": [
    "data1=open(\"test.txt\",'r')"
   ]
  },
  {
   "cell_type": "code",
   "execution_count": 20,
   "id": "26ad5bd5-c555-4e56-8bd6-050b9529bfc6",
   "metadata": {},
   "outputs": [
    {
     "name": "stdout",
     "output_type": "stream",
     "text": [
      "this is my first file to write\n"
     ]
    }
   ],
   "source": [
    "for i in data1:\n",
    "    print(i)"
   ]
  },
  {
   "cell_type": "code",
   "execution_count": 21,
   "id": "5bce05a3-eada-48f7-9660-0acbdbbbddc2",
   "metadata": {},
   "outputs": [],
   "source": [
    "import os"
   ]
  },
  {
   "cell_type": "code",
   "execution_count": 22,
   "id": "e09c22f5-f45e-4ed8-b69f-1e6e2d92678b",
   "metadata": {},
   "outputs": [
    {
     "data": {
      "text/plain": [
       "30"
      ]
     },
     "execution_count": 22,
     "metadata": {},
     "output_type": "execute_result"
    }
   ],
   "source": [
    "os.path.getsize(\"test.txt\")"
   ]
  },
  {
   "cell_type": "code",
   "execution_count": 23,
   "id": "324c6456-16e1-4d50-86ea-4ccbd1c9bab8",
   "metadata": {},
   "outputs": [],
   "source": [
    "os.remove(\"test.txt\")"
   ]
  },
  {
   "cell_type": "code",
   "execution_count": 24,
   "id": "473adcd3-f0f6-4d1d-8f1b-6c733e8c4eba",
   "metadata": {},
   "outputs": [],
   "source": [
    "f=open('test.txt','w')"
   ]
  },
  {
   "cell_type": "code",
   "execution_count": 25,
   "id": "8d966003-e0a5-4a35-a763-cb28d4e3e86f",
   "metadata": {},
   "outputs": [],
   "source": [
    "os.rename(\"test.txt\",\"new.txt\")"
   ]
  },
  {
   "cell_type": "code",
   "execution_count": 26,
   "id": "264be196-ad11-42e3-9652-26b384d4d157",
   "metadata": {},
   "outputs": [],
   "source": [
    "import shutil"
   ]
  },
  {
   "cell_type": "code",
   "execution_count": 27,
   "id": "3173b225-6734-43b1-89b6-622f9c9c4d42",
   "metadata": {},
   "outputs": [
    {
     "data": {
      "text/plain": [
       "'copy_new.txt'"
      ]
     },
     "execution_count": 27,
     "metadata": {},
     "output_type": "execute_result"
    }
   ],
   "source": [
    "shutil.copy(\"new.txt\",'copy_new.txt')"
   ]
  },
  {
   "cell_type": "code",
   "execution_count": 29,
   "id": "a0f2e16c-ee58-4592-836a-5baed3210d01",
   "metadata": {},
   "outputs": [
    {
     "name": "stdout",
     "output_type": "stream",
     "text": [
      "\n"
     ]
    }
   ],
   "source": [
    "with open('new.txt','r') as f:\n",
    "    print(f.read())"
   ]
  },
  {
   "cell_type": "markdown",
   "id": "3e5914da-6632-4288-be70-d56b31e7c2da",
   "metadata": {
    "jp-MarkdownHeadingCollapsed": true,
    "tags": []
   },
   "source": [
    "# Reading writing file"
   ]
  },
  {
   "cell_type": "code",
   "execution_count": 30,
   "id": "2393a7e4-0a7e-4efb-8e68-7c23fa9c1734",
   "metadata": {},
   "outputs": [],
   "source": [
    "data={\n",
    "    \"name\":\"aman\",\n",
    "    \"mail_id\":\"252@agao.com\",\n",
    "    \"phone number\":236236436,\n",
    "    \"subject\":[\"data science\",\"big data\",\"data analytics\"]\n",
    "}"
   ]
  },
  {
   "cell_type": "code",
   "execution_count": 31,
   "id": "8790211c-1aca-4d88-a89f-bafc4dfa900a",
   "metadata": {},
   "outputs": [],
   "source": [
    "import json"
   ]
  },
  {
   "cell_type": "code",
   "execution_count": 32,
   "id": "74cbd7fe-f9e3-4480-b603-e9bee5e38243",
   "metadata": {},
   "outputs": [],
   "source": [
    "with open(\"data.json\",\"w\") as f:\n",
    "    json.dump(data,f)\n",
    "  "
   ]
  },
  {
   "cell_type": "code",
   "execution_count": 34,
   "id": "6a853886-5746-4773-be71-d3909a03f767",
   "metadata": {},
   "outputs": [],
   "source": [
    "with open(\"data.json\",'r') as f:\n",
    "    data1=json.load(f)"
   ]
  },
  {
   "cell_type": "code",
   "execution_count": 35,
   "id": "133ba88a-2bac-4f9c-83d9-fc87faa631af",
   "metadata": {},
   "outputs": [
    {
     "data": {
      "text/plain": [
       "'big data'"
      ]
     },
     "execution_count": 35,
     "metadata": {},
     "output_type": "execute_result"
    }
   ],
   "source": [
    "data1['subject'][1]"
   ]
  },
  {
   "cell_type": "code",
   "execution_count": 36,
   "id": "33fb19f2-e6c6-4607-936a-663daee1307c",
   "metadata": {},
   "outputs": [],
   "source": [
    "import csv\n",
    "data=[[\"name\",\"email_id\",\"phone_no\"],\n",
    "     ['sudh','agahsh@gah.com',262634346],\n",
    "      ['krish','asghaiushg@gauahs.com',25323523]\n",
    "     ]\n",
    "\n"
   ]
  },
  {
   "cell_type": "code",
   "execution_count": 38,
   "id": "e547c7ad-6014-41cf-9ff0-6b8043831644",
   "metadata": {},
   "outputs": [],
   "source": [
    "with open('data.csv','w') as f:\n",
    "    writer=csv.writer(f)\n",
    "    for i in data:\n",
    "        writer.writerow(i)"
   ]
  },
  {
   "cell_type": "code",
   "execution_count": 39,
   "id": "6abc35d1-2c8e-4642-bef2-ba2093ac9e73",
   "metadata": {},
   "outputs": [
    {
     "name": "stdout",
     "output_type": "stream",
     "text": [
      "['name', 'email_id', 'phone_no']\n",
      "['sudh', 'agahsh@gah.com', '262634346']\n",
      "['krish', 'asghaiushg@gauahs.com', '25323523']\n"
     ]
    }
   ],
   "source": [
    "with open('data.csv','r') as f:\n",
    "    read_data=csv.reader(f)\n",
    "    for i in read_data:\n",
    "        print(i)"
   ]
  },
  {
   "cell_type": "code",
   "execution_count": 41,
   "id": "77866aa5-3cef-4923-87c5-131cc4138d43",
   "metadata": {},
   "outputs": [],
   "source": [
    "with open('testb.bin','wb') as f:\n",
    "    f.write(b\"\\x01\\x02\\x03\\x687687\")"
   ]
  },
  {
   "cell_type": "code",
   "execution_count": 42,
   "id": "406b1ee1-c557-4c61-9f74-170cfea83c2f",
   "metadata": {},
   "outputs": [
    {
     "name": "stdout",
     "output_type": "stream",
     "text": [
      "b'\\x01\\x02\\x03h7687'\n"
     ]
    }
   ],
   "source": [
    "with open(\"testb.bin\",'rb') as f:\n",
    "    print(f.read())"
   ]
  },
  {
   "cell_type": "markdown",
   "id": "3a330ed2-d870-4544-b19d-72210d57d73a",
   "metadata": {
    "jp-MarkdownHeadingCollapsed": true,
    "tags": []
   },
   "source": [
    "# Buffered"
   ]
  },
  {
   "cell_type": "code",
   "execution_count": 43,
   "id": "a1141f02-0d09-43b0-a660-699565e0397c",
   "metadata": {},
   "outputs": [],
   "source": [
    "import io"
   ]
  },
  {
   "cell_type": "code",
   "execution_count": 46,
   "id": "ec83ae8f-d62f-49c0-9079-8be81fee917c",
   "metadata": {},
   "outputs": [],
   "source": [
    "with open(\"testz.txt\",'wb') as f:\n",
    "    file=io.BufferedWriter(f)\n",
    "    file.write(b\"this is my first line\\n\")\n",
    "    file.write(b\"this is my second line\") \n",
    "    file.flush()"
   ]
  },
  {
   "cell_type": "code",
   "execution_count": 48,
   "id": "cc5800e2-5041-40c9-a4f1-d9aacfdb7cfc",
   "metadata": {},
   "outputs": [
    {
     "name": "stdout",
     "output_type": "stream",
     "text": [
      "b'this is my first line\\nthis is my second line'\n"
     ]
    }
   ],
   "source": [
    "with open('testz.txt','rb') as f:\n",
    "    file=io.BufferedReader(f)\n",
    "    data=file.read(100)\n",
    "    print(data)"
   ]
  },
  {
   "cell_type": "markdown",
   "id": "5792b476-3c73-4365-bb3d-1859aaca8b7f",
   "metadata": {},
   "source": [
    "# logging and debugger"
   ]
  },
  {
   "cell_type": "code",
   "execution_count": 49,
   "id": "60d996be-046f-496d-b757-26e9ffe0a38f",
   "metadata": {},
   "outputs": [],
   "source": [
    "import logging"
   ]
  },
  {
   "cell_type": "code",
   "execution_count": 58,
   "id": "7c098b83-0259-4bae-a0bd-3b907229e8ea",
   "metadata": {},
   "outputs": [],
   "source": [
    "logging.basicConfig(filename='test.log',level=logging.INFO) # we wont be able to use\n",
    "# debug with this as the level is set as INFO because INFO comes down in the level"
   ]
  },
  {
   "cell_type": "code",
   "execution_count": 51,
   "id": "67022865-03c9-420f-8540-94384c925b29",
   "metadata": {},
   "outputs": [],
   "source": [
    "logging.info(\"log this line of execution\")"
   ]
  },
  {
   "cell_type": "code",
   "execution_count": 55,
   "id": "76301ba0-bd9e-49d7-a3b0-9e0d4049fe9d",
   "metadata": {},
   "outputs": [],
   "source": [
    "logging.warning(\"this is my warning msg\")"
   ]
  },
  {
   "cell_type": "code",
   "execution_count": 54,
   "id": "ce67005d-f943-47c4-93fd-b629ce7d20c7",
   "metadata": {},
   "outputs": [],
   "source": [
    "\n",
    "#level \n",
    "#1. NOTSET\n",
    "#2. DEBUG\n",
    "#3. INFO\n",
    "#4. WARNING\n",
    "#5. ERROR\n",
    "#6. CRITICAL"
   ]
  },
  {
   "cell_type": "code",
   "execution_count": 56,
   "id": "1f88ad9c-4f91-4855-85d2-ebc1383d5c69",
   "metadata": {},
   "outputs": [],
   "source": [
    "logging.error(\"this is error msg\")"
   ]
  },
  {
   "cell_type": "code",
   "execution_count": 57,
   "id": "37cff743-8fd8-4db6-8b16-f17f9fef78a9",
   "metadata": {},
   "outputs": [],
   "source": [
    "logging.critical(\"this is my critical msg\")"
   ]
  },
  {
   "cell_type": "code",
   "execution_count": null,
   "id": "b241cf75-0fe7-40ea-bbf8-cd64dd27525d",
   "metadata": {},
   "outputs": [],
   "source": [
    "logging.shutdown()"
   ]
  },
  {
   "cell_type": "code",
   "execution_count": 1,
   "id": "824546b4-8972-4d29-a8cf-2054f94ab2ec",
   "metadata": {},
   "outputs": [],
   "source": [
    "import logging"
   ]
  },
  {
   "cell_type": "code",
   "execution_count": 2,
   "id": "ffa77f2e-6afa-49bc-a419-f6f742ccfdaa",
   "metadata": {},
   "outputs": [],
   "source": [
    "logging.basicConfig(filename=\"test1.log\",level=logging.DEBUG,format='%(asctime)s %(message)s')"
   ]
  },
  {
   "cell_type": "code",
   "execution_count": 3,
   "id": "7d9fcbef-4ce4-4e2f-8f7d-3424fa825e1b",
   "metadata": {},
   "outputs": [],
   "source": [
    "logging.info(\"this is my info logging\")\n",
    "logging.error(\"this is my error msg\")\n",
    "logging.critical(\"this is my critical\")"
   ]
  },
  {
   "cell_type": "code",
   "execution_count": 4,
   "id": "129c1d88-6158-4041-b016-20b21eb340fb",
   "metadata": {},
   "outputs": [],
   "source": [
    "logging.shutdown()"
   ]
  },
  {
   "cell_type": "code",
   "execution_count": 2,
   "id": "86785a3d-ebeb-417b-8783-33bdaac04af7",
   "metadata": {},
   "outputs": [],
   "source": [
    "logging.basicConfig(filename='test2.log',level=logging.DEBUG,format='%(asctime)s %(name)s %(levelname)s %(message)s')"
   ]
  },
  {
   "cell_type": "code",
   "execution_count": 3,
   "id": "f4588f92-4b97-494a-8e65-b96348694de4",
   "metadata": {},
   "outputs": [],
   "source": [
    "logging.info(\"this is my info logging\")\n",
    "logging.error(\"this is my error msg\")\n",
    "logging.critical(\"this is my critical\")"
   ]
  },
  {
   "cell_type": "code",
   "execution_count": 4,
   "id": "5ebf3723-a12b-4b09-b46a-8e284c48fc90",
   "metadata": {},
   "outputs": [],
   "source": [
    "l=[1,2,3,4,[2,3,4],'sudh','aman']"
   ]
  },
  {
   "cell_type": "code",
   "execution_count": 12,
   "id": "64332180-b6ba-4717-ac4b-1c1426a4d3d4",
   "metadata": {},
   "outputs": [],
   "source": [
    "l1_int=[]\n",
    "l2_str=[]\n",
    "for i in l:\n",
    "    logging.info(\"we are iterating through our list and our local var is i\")\n",
    "    if type(i)==list:\n",
    "        logging.info(\"i am inside if statement and i ama trying to check list type\")\n",
    "        for j in i:\n",
    "            logging.info('i am in another for loop for list insdie list element')\n",
    "            if type(j)==int:\n",
    "                logging.info(\"i am inside if statement\")\n",
    "                l1_int.append(j)\n",
    "    elif type(i)==int:\n",
    "        l1_int.append(i)\n",
    "    else:\n",
    "        if type(i)==str:\n",
    "            l2_str.append(i)\n",
    "logging.info(\"my final result for int is {l1} and str is {l2}\".format(l1=l1_int , l2=l2_str))"
   ]
  },
  {
   "cell_type": "code",
   "execution_count": 6,
   "id": "4ea1af3c-3b91-4cdb-b7ff-906d448c393d",
   "metadata": {},
   "outputs": [
    {
     "data": {
      "text/plain": [
       "[1, 2, 3, 4, 2, 3, 4]"
      ]
     },
     "execution_count": 6,
     "metadata": {},
     "output_type": "execute_result"
    }
   ],
   "source": [
    "l1_int"
   ]
  },
  {
   "cell_type": "code",
   "execution_count": null,
   "id": "af57c924-f200-4112-86ea-dc23f564587c",
   "metadata": {},
   "outputs": [
    {
     "data": {
      "text/plain": [
       "['sudh', 'aman']"
      ]
     },
     "execution_count": 7,
     "metadata": {},
     "output_type": "execute_result"
    }
   ],
   "source": [
    "l2_str"
   ]
  },
  {
   "cell_type": "code",
   "execution_count": null,
   "id": "3adf9597-d927-4027-b111-f8ac86aa490f",
   "metadata": {},
   "outputs": [],
   "source": []
  }
 ],
 "metadata": {
  "kernelspec": {
   "display_name": "Python 3 (ipykernel)",
   "language": "python",
   "name": "python3"
  },
  "language_info": {
   "codemirror_mode": {
    "name": "ipython",
    "version": 3
   },
   "file_extension": ".py",
   "mimetype": "text/x-python",
   "name": "python",
   "nbconvert_exporter": "python",
   "pygments_lexer": "ipython3",
   "version": "3.10.8"
  }
 },
 "nbformat": 4,
 "nbformat_minor": 5
}
