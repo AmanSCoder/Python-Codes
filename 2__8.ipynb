{
 "cells": [
  {
   "cell_type": "markdown",
   "id": "a4452c66-b346-4e61-a12f-12c72ed1d2e4",
   "metadata": {
    "tags": []
   },
   "source": [
    "## Polymorphism"
   ]
  },
  {
   "cell_type": "code",
   "execution_count": 1,
   "id": "fc265e88-1e19-4302-bb8e-6b5c4b9d27ec",
   "metadata": {},
   "outputs": [],
   "source": [
    "class data_science:\n",
    "    def syllabus(self):\n",
    "        print(\"this is my syllabus for data science masters\")"
   ]
  },
  {
   "cell_type": "code",
   "execution_count": 2,
   "id": "36265f87-a9f5-45d7-9f7b-43a894ce3a4e",
   "metadata": {},
   "outputs": [],
   "source": [
    "class web_dev:\n",
    "    def syllabus(self):\n",
    "        print(\"this is my syllabus for web dev\")"
   ]
  },
  {
   "cell_type": "code",
   "execution_count": 3,
   "id": "0a2f39a4-20dd-4c8c-8d65-88c843a9632b",
   "metadata": {},
   "outputs": [],
   "source": [
    "def class_parcer(class_obj):\n",
    "    for i in class_obj:\n",
    "        i.syllabus()"
   ]
  },
  {
   "cell_type": "code",
   "execution_count": 4,
   "id": "af30e2bb-3f12-4350-9439-864b89a9f39f",
   "metadata": {},
   "outputs": [],
   "source": [
    "data_science=data_science()"
   ]
  },
  {
   "cell_type": "code",
   "execution_count": 5,
   "id": "cc47df3b-ea0e-40bf-b8c1-6be7a04b3760",
   "metadata": {},
   "outputs": [],
   "source": [
    "web_dev=web_dev()"
   ]
  },
  {
   "cell_type": "code",
   "execution_count": 6,
   "id": "3d7813c6-9eeb-4643-a8c9-a625c30279a7",
   "metadata": {},
   "outputs": [],
   "source": [
    "class_obj=[data_science,web_dev]"
   ]
  },
  {
   "cell_type": "code",
   "execution_count": 7,
   "id": "8bb3c54a-1cfc-47f3-93f9-91415c42b49e",
   "metadata": {},
   "outputs": [
    {
     "name": "stdout",
     "output_type": "stream",
     "text": [
      "this is my syllabus for data science masters\n",
      "this is my syllabus for web dev\n"
     ]
    }
   ],
   "source": [
    "class_parcer(class_obj)"
   ]
  },
  {
   "cell_type": "markdown",
   "id": "0cb7d9be-9f4a-4fe6-a310-19a5b9cf8810",
   "metadata": {},
   "source": [
    "## Encapsulation"
   ]
  },
  {
   "cell_type": "code",
   "execution_count": 12,
   "id": "640322c1-24a8-4998-8348-8a5e4aa8e579",
   "metadata": {},
   "outputs": [],
   "source": [
    "class test:\n",
    "    def __init__(self,a,b):\n",
    "        self.a=a\n",
    "        self.a=b\n",
    "        "
   ]
  },
  {
   "cell_type": "code",
   "execution_count": 13,
   "id": "5946b0bf-40cb-4e71-af06-72b0b3dec7c4",
   "metadata": {},
   "outputs": [],
   "source": [
    "t=test(23,25)"
   ]
  },
  {
   "cell_type": "code",
   "execution_count": 14,
   "id": "abcc06ea-a8e0-41f7-a406-13a9f020e6b0",
   "metadata": {},
   "outputs": [],
   "source": [
    "t.a=23423"
   ]
  },
  {
   "cell_type": "code",
   "execution_count": 15,
   "id": "d2b309b2-5b6e-4522-84cb-f51e18c5b7d6",
   "metadata": {},
   "outputs": [
    {
     "data": {
      "text/plain": [
       "23423"
      ]
     },
     "execution_count": 15,
     "metadata": {},
     "output_type": "execute_result"
    }
   ],
   "source": [
    "t.a"
   ]
  },
  {
   "cell_type": "code",
   "execution_count": 18,
   "id": "71cc0d10-a22f-46ff-831b-687ef2c84047",
   "metadata": {},
   "outputs": [],
   "source": [
    "#we need to prevent this soo that we can encapsulate the variable so that \n",
    "#user cant access the variable from outside the class "
   ]
  },
  {
   "cell_type": "code",
   "execution_count": 25,
   "id": "f921e9cd-aeee-4f4d-a97f-793489cbaab3",
   "metadata": {},
   "outputs": [],
   "source": [
    "class car:\n",
    "    def  __init__(self,year,make,model,speed):\n",
    "        self.__year=year\n",
    "        self.__make=make\n",
    "        self.__speed=0\n",
    "        self.__model=model\n",
    "    def set_speed(self,speed):\n",
    "        self.__speed=0 if speed<0 else speed\n",
    "    def get_speed(self):\n",
    "        return self.__speed"
   ]
  },
  {
   "cell_type": "code",
   "execution_count": 27,
   "id": "779cf024-03e3-4678-9d92-454c50b54a18",
   "metadata": {},
   "outputs": [],
   "source": [
    "c=car(2021,\"toyota\",\"innova\",12)"
   ]
  },
  {
   "cell_type": "code",
   "execution_count": 21,
   "id": "25bbd945-1116-4f00-9562-a1b3cd172908",
   "metadata": {},
   "outputs": [
    {
     "ename": "AttributeError",
     "evalue": "'car' object has no attribute '__year'",
     "output_type": "error",
     "traceback": [
      "\u001b[0;31m---------------------------------------------------------------------------\u001b[0m",
      "\u001b[0;31mAttributeError\u001b[0m                            Traceback (most recent call last)",
      "Cell \u001b[0;32mIn[21], line 1\u001b[0m\n\u001b[0;32m----> 1\u001b[0m \u001b[43mc\u001b[49m\u001b[38;5;241;43m.\u001b[39;49m\u001b[43m__year\u001b[49m\n",
      "\u001b[0;31mAttributeError\u001b[0m: 'car' object has no attribute '__year'"
     ]
    }
   ],
   "source": [
    "c.__year"
   ]
  },
  {
   "cell_type": "code",
   "execution_count": 22,
   "id": "504a5c51-df30-4db8-a58f-974c49a6abfa",
   "metadata": {},
   "outputs": [
    {
     "ename": "AttributeError",
     "evalue": "'car' object has no attribute 'year'",
     "output_type": "error",
     "traceback": [
      "\u001b[0;31m---------------------------------------------------------------------------\u001b[0m",
      "\u001b[0;31mAttributeError\u001b[0m                            Traceback (most recent call last)",
      "Cell \u001b[0;32mIn[22], line 1\u001b[0m\n\u001b[0;32m----> 1\u001b[0m \u001b[43mc\u001b[49m\u001b[38;5;241;43m.\u001b[39;49m\u001b[43myear\u001b[49m\n",
      "\u001b[0;31mAttributeError\u001b[0m: 'car' object has no attribute 'year'"
     ]
    }
   ],
   "source": [
    "c.year"
   ]
  },
  {
   "cell_type": "code",
   "execution_count": 23,
   "id": "65ec3c3a-80a9-4f1b-aaeb-afd01ac40a34",
   "metadata": {},
   "outputs": [
    {
     "data": {
      "text/plain": [
       "2021"
      ]
     },
     "execution_count": 23,
     "metadata": {},
     "output_type": "execute_result"
    }
   ],
   "source": [
    "c._car__year"
   ]
  },
  {
   "cell_type": "code",
   "execution_count": 24,
   "id": "167697c0-4a5d-433a-ba3c-fa50e582ca00",
   "metadata": {},
   "outputs": [],
   "source": [
    "# if we put the double underscore in the starting of a variable name then it \n",
    "#become private variable and then it is not accessible normally "
   ]
  },
  {
   "cell_type": "code",
   "execution_count": 28,
   "id": "09d3b393-b0ed-4c36-8c67-bf68136b2976",
   "metadata": {},
   "outputs": [
    {
     "data": {
      "text/plain": [
       "0"
      ]
     },
     "execution_count": 28,
     "metadata": {},
     "output_type": "execute_result"
    }
   ],
   "source": [
    "c.get_speed()"
   ]
  },
  {
   "cell_type": "code",
   "execution_count": 29,
   "id": "bb25c7ea-83b7-4529-ab07-95a2dcc4c075",
   "metadata": {},
   "outputs": [],
   "source": [
    "c.set_speed(235)"
   ]
  },
  {
   "cell_type": "code",
   "execution_count": 30,
   "id": "0f9a2a44-622a-4c37-b0d4-2607030b7a6b",
   "metadata": {},
   "outputs": [
    {
     "data": {
      "text/plain": [
       "235"
      ]
     },
     "execution_count": 30,
     "metadata": {},
     "output_type": "execute_result"
    }
   ],
   "source": [
    "c.get_speed()"
   ]
  },
  {
   "cell_type": "code",
   "execution_count": 33,
   "id": "1909a407-3978-4792-a0f5-1acbaee1346e",
   "metadata": {},
   "outputs": [],
   "source": [
    "class bank_account:\n",
    "    def __init__(self,balance):\n",
    "        self.__balance=balance\n",
    "    def deposit(self,amount):\n",
    "        self.__balance+=amount\n",
    "    def withdraw(self,amount):\n",
    "        if self.__balance>=amount:\n",
    "            self.__balance-=amount\n",
    "        else:\n",
    "            return False\n",
    "    def get_balance(self):\n",
    "        return self.__balance"
   ]
  },
  {
   "cell_type": "code",
   "execution_count": 34,
   "id": "476730aa-835a-41c4-ac43-76bf54d77193",
   "metadata": {},
   "outputs": [],
   "source": [
    "aman=bank_account(1000)"
   ]
  },
  {
   "cell_type": "code",
   "execution_count": 35,
   "id": "e0bdb065-f775-45d2-b63b-871616b61cae",
   "metadata": {},
   "outputs": [
    {
     "data": {
      "text/plain": [
       "1000"
      ]
     },
     "execution_count": 35,
     "metadata": {},
     "output_type": "execute_result"
    }
   ],
   "source": [
    "aman.get_balance()"
   ]
  },
  {
   "cell_type": "code",
   "execution_count": 36,
   "id": "07eb4893-630b-4feb-9042-90960244d34f",
   "metadata": {},
   "outputs": [],
   "source": [
    "aman.deposit(500)"
   ]
  },
  {
   "cell_type": "code",
   "execution_count": 37,
   "id": "2e073c18-61bc-4da6-8ff7-5ca55e9a1b80",
   "metadata": {},
   "outputs": [
    {
     "data": {
      "text/plain": [
       "1500"
      ]
     },
     "execution_count": 37,
     "metadata": {},
     "output_type": "execute_result"
    }
   ],
   "source": [
    "aman.get_balance()"
   ]
  },
  {
   "cell_type": "code",
   "execution_count": 38,
   "id": "03c41e24-db2b-499c-8403-0f9fd43c6f2f",
   "metadata": {},
   "outputs": [
    {
     "data": {
      "text/plain": [
       "False"
      ]
     },
     "execution_count": 38,
     "metadata": {},
     "output_type": "execute_result"
    }
   ],
   "source": [
    "aman.withdraw(9000)"
   ]
  },
  {
   "cell_type": "code",
   "execution_count": 39,
   "id": "5f407ae3-474a-4487-b131-0a66199ee2b5",
   "metadata": {},
   "outputs": [],
   "source": [
    "aman.withdraw(700)"
   ]
  },
  {
   "cell_type": "code",
   "execution_count": 40,
   "id": "2d820c7d-f693-4dc0-b890-339cad16c6d1",
   "metadata": {},
   "outputs": [
    {
     "data": {
      "text/plain": [
       "800"
      ]
     },
     "execution_count": 40,
     "metadata": {},
     "output_type": "execute_result"
    }
   ],
   "source": [
    "aman.get_balance()"
   ]
  },
  {
   "cell_type": "markdown",
   "id": "58ee4c77-61d7-47db-9b4d-e8ac9c0b0bae",
   "metadata": {},
   "source": [
    "## Inheritance"
   ]
  },
  {
   "cell_type": "code",
   "execution_count": 41,
   "id": "7c3b611b-623f-4348-9773-f96e95653ee1",
   "metadata": {},
   "outputs": [],
   "source": [
    "class test: #parent class\n",
    "    def test_meth(self):\n",
    "        return \"this is my first class\""
   ]
  },
  {
   "cell_type": "code",
   "execution_count": 42,
   "id": "56127464-103b-4b00-b284-d888a35eed9b",
   "metadata": {},
   "outputs": [],
   "source": [
    "class child_test(test): #child class\n",
    "    pass"
   ]
  },
  {
   "cell_type": "code",
   "execution_count": 43,
   "id": "4833e9c0-7b72-4f89-9d56-a303fab85d1e",
   "metadata": {},
   "outputs": [],
   "source": [
    "child_obj=child_test()"
   ]
  },
  {
   "cell_type": "code",
   "execution_count": 44,
   "id": "d6e8acc3-e2cc-435c-80f2-11f838ba7f09",
   "metadata": {},
   "outputs": [
    {
     "data": {
      "text/plain": [
       "'this is my first class'"
      ]
     },
     "execution_count": 44,
     "metadata": {},
     "output_type": "execute_result"
    }
   ],
   "source": [
    "child_obj.test_meth()"
   ]
  },
  {
   "cell_type": "code",
   "execution_count": 45,
   "id": "30ecd509-b1de-43df-b134-136e36a404a5",
   "metadata": {},
   "outputs": [],
   "source": [
    "class class1:\n",
    "    def test_class1(self):\n",
    "        return \"this is a meth from class1\""
   ]
  },
  {
   "cell_type": "code",
   "execution_count": 46,
   "id": "1603ca83-dc1b-453c-a5fc-06c52a9e4edb",
   "metadata": {},
   "outputs": [],
   "source": [
    "class class2(class1):\n",
    "    def test_class2(self):\n",
    "        return \"this is a meth from class2\""
   ]
  },
  {
   "cell_type": "code",
   "execution_count": 47,
   "id": "f0adc4f5-522a-4241-bf32-c3d77fbea777",
   "metadata": {},
   "outputs": [],
   "source": [
    "class class3(class2):\n",
    "    pass"
   ]
  },
  {
   "cell_type": "code",
   "execution_count": 48,
   "id": "36f609a5-a323-485c-8eb7-51bc9af86bde",
   "metadata": {},
   "outputs": [],
   "source": [
    "obj_class3=class3()"
   ]
  },
  {
   "cell_type": "code",
   "execution_count": 49,
   "id": "8966c64f-c13b-4af6-8f3a-8c18eaf3dd1d",
   "metadata": {},
   "outputs": [
    {
     "data": {
      "text/plain": [
       "'this is a meth from class1'"
      ]
     },
     "execution_count": 49,
     "metadata": {},
     "output_type": "execute_result"
    }
   ],
   "source": [
    "obj_class3.test_class1()"
   ]
  },
  {
   "cell_type": "code",
   "execution_count": 50,
   "id": "2e3bc1f2-3815-4117-9e99-6f56c070d143",
   "metadata": {},
   "outputs": [
    {
     "data": {
      "text/plain": [
       "'this is a meth from class2'"
      ]
     },
     "execution_count": 50,
     "metadata": {},
     "output_type": "execute_result"
    }
   ],
   "source": [
    "obj_class3.test_class2()"
   ]
  },
  {
   "cell_type": "code",
   "execution_count": 54,
   "id": "65bd65ab-24a1-477b-a446-d6867e268c09",
   "metadata": {},
   "outputs": [],
   "source": [
    "class class4:\n",
    "    def test_class4(self):\n",
    "        return \"this is a class1\""
   ]
  },
  {
   "cell_type": "code",
   "execution_count": 56,
   "id": "85056ef3-acc4-4611-9039-377690227064",
   "metadata": {},
   "outputs": [],
   "source": [
    "class class5:\n",
    "    def test_class5(self):\n",
    "        return \"this is a class5\""
   ]
  },
  {
   "cell_type": "code",
   "execution_count": 58,
   "id": "68434805-ccbd-475b-ba97-ccab9f5357bf",
   "metadata": {},
   "outputs": [],
   "source": [
    "class class6(class4,class5):\n",
    "    pass"
   ]
  },
  {
   "cell_type": "code",
   "execution_count": 59,
   "id": "e31f4852-52b3-4314-b5cc-964edb553b68",
   "metadata": {},
   "outputs": [],
   "source": [
    "obj_class6=class6()"
   ]
  },
  {
   "cell_type": "code",
   "execution_count": 60,
   "id": "847de002-07fd-436f-8f50-560793bf00d9",
   "metadata": {},
   "outputs": [
    {
     "data": {
      "text/plain": [
       "'this is a class1'"
      ]
     },
     "execution_count": 60,
     "metadata": {},
     "output_type": "execute_result"
    }
   ],
   "source": [
    "obj_class6.test_class4()"
   ]
  },
  {
   "cell_type": "code",
   "execution_count": 61,
   "id": "bbf10128-07a9-4fd4-b09a-d29eaf7ef4b9",
   "metadata": {},
   "outputs": [
    {
     "data": {
      "text/plain": [
       "'this is a class5'"
      ]
     },
     "execution_count": 61,
     "metadata": {},
     "output_type": "execute_result"
    }
   ],
   "source": [
    "obj_class6.test_class5()"
   ]
  },
  {
   "cell_type": "markdown",
   "id": "b8de1f68-aadc-4fa6-af8f-60a76cb24aed",
   "metadata": {},
   "source": [
    "## Abstraction"
   ]
  },
  {
   "cell_type": "code",
   "execution_count": 72,
   "id": "66c885f3-8ccf-4a37-b443-33494bd2bcc1",
   "metadata": {},
   "outputs": [],
   "source": [
    "import abc\n",
    "class pw:\n",
    "    @abc.abstractmethod\n",
    "    def student_details(self):\n",
    "        pass\n",
    "    @abc.abstractmethod\n",
    "    def student_asg(self):\n",
    "        pass\n",
    "    @abc.abstractmethod\n",
    "    def student_marks(self):   \n",
    "        pass"
   ]
  },
  {
   "cell_type": "code",
   "execution_count": 77,
   "id": "f458ef0f-c9d5-44e5-aa3f-deb00f8e0bb8",
   "metadata": {},
   "outputs": [],
   "source": [
    "class student_details(pw):\n",
    "    def student_details(self):\n",
    "        return \"this is a meth for taking students details\"\n",
    "    def student_asg(self):\n",
    "        return \"this is a meth for assing details for a particular student\"\n",
    "    "
   ]
  },
  {
   "cell_type": "code",
   "execution_count": 78,
   "id": "29bc0ed7-a911-47a8-9f06-93cf2d0d0652",
   "metadata": {},
   "outputs": [],
   "source": [
    "class data_sci_masters(pw):\n",
    "    def student_details(self):\n",
    "        return \"this is a meth for taking students details for data science\"\n",
    "    def student_asg(self):\n",
    "        return \"this is a meth for assing details for a particular student for data science\"\n",
    "    "
   ]
  },
  {
   "cell_type": "code",
   "execution_count": 79,
   "id": "b771054f-32fd-4d91-81f9-be441042805e",
   "metadata": {},
   "outputs": [
    {
     "data": {
      "text/plain": [
       "'this is a meth for taking students details for data science'"
      ]
     },
     "execution_count": 79,
     "metadata": {},
     "output_type": "execute_result"
    }
   ],
   "source": [
    "dsm=data_sci_masters()\n",
    "dsm.student_details()"
   ]
  },
  {
   "cell_type": "code",
   "execution_count": null,
   "id": "847b8c91-b619-4b11-be6e-6e4d01d0e9aa",
   "metadata": {},
   "outputs": [],
   "source": []
  }
 ],
 "metadata": {
  "kernelspec": {
   "display_name": "Python 3 (ipykernel)",
   "language": "python",
   "name": "python3"
  },
  "language_info": {
   "codemirror_mode": {
    "name": "ipython",
    "version": 3
   },
   "file_extension": ".py",
   "mimetype": "text/x-python",
   "name": "python",
   "nbconvert_exporter": "python",
   "pygments_lexer": "ipython3",
   "version": "3.10.8"
  }
 },
 "nbformat": 4,
 "nbformat_minor": 5
}
