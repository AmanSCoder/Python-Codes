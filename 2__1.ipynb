{
 "cells": [
  {
   "cell_type": "code",
   "execution_count": 1,
   "id": "532654b7-1487-4b03-98d2-58863784f319",
   "metadata": {},
   "outputs": [],
   "source": [
    "d={}"
   ]
  },
  {
   "cell_type": "code",
   "execution_count": 2,
   "id": "7ebaaa41-1141-4b81-90c5-5677245ec884",
   "metadata": {},
   "outputs": [
    {
     "data": {
      "text/plain": [
       "dict"
      ]
     },
     "execution_count": 2,
     "metadata": {},
     "output_type": "execute_result"
    }
   ],
   "source": [
    "type(d)"
   ]
  },
  {
   "cell_type": "code",
   "execution_count": 3,
   "id": "079bd024-bb49-4208-872c-c3f527a2a869",
   "metadata": {},
   "outputs": [],
   "source": [
    "d1={'key':'sudh'}"
   ]
  },
  {
   "cell_type": "code",
   "execution_count": 4,
   "id": "cb220f75-f382-45bb-b3a5-54392ed7d270",
   "metadata": {},
   "outputs": [],
   "source": [
    "d2={'name':\"aman\",'email':'ss','number':324}"
   ]
  },
  {
   "cell_type": "code",
   "execution_count": 5,
   "id": "a2203748-51bf-495c-bf89-c43c18484a09",
   "metadata": {},
   "outputs": [
    {
     "data": {
      "text/plain": [
       "{'name': 'aman', 'email': 'ss', 'number': 324}"
      ]
     },
     "execution_count": 5,
     "metadata": {},
     "output_type": "execute_result"
    }
   ],
   "source": [
    "d2"
   ]
  },
  {
   "cell_type": "code",
   "execution_count": 6,
   "id": "69960391-ae07-4ad7-86fb-967bd0072714",
   "metadata": {},
   "outputs": [],
   "source": [
    "d3={2344:\"sudh\"}"
   ]
  },
  {
   "cell_type": "code",
   "execution_count": 7,
   "id": "5d871965-b5a7-47f9-91df-d4ff81ce6893",
   "metadata": {},
   "outputs": [
    {
     "data": {
      "text/plain": [
       "'sudh'"
      ]
     },
     "execution_count": 7,
     "metadata": {},
     "output_type": "execute_result"
    }
   ],
   "source": [
    "d3[2344]"
   ]
  },
  {
   "cell_type": "code",
   "execution_count": 8,
   "id": "a6b0658e-6749-41bd-be4d-6e4d7326a30e",
   "metadata": {},
   "outputs": [
    {
     "data": {
      "text/plain": [
       "dict_keys(['name', 'email', 'number'])"
      ]
     },
     "execution_count": 8,
     "metadata": {},
     "output_type": "execute_result"
    }
   ],
   "source": [
    "d2.keys()"
   ]
  },
  {
   "cell_type": "code",
   "execution_count": 9,
   "id": "8fafc633-6791-4963-8c3d-3b2b9554f9e8",
   "metadata": {},
   "outputs": [],
   "source": [
    "d4={'name':'sudh','mail':\"ss\",\"name\":\"aman\"}"
   ]
  },
  {
   "cell_type": "code",
   "execution_count": 10,
   "id": "986c4779-f2fd-4166-a00a-e228d9ee940e",
   "metadata": {},
   "outputs": [
    {
     "data": {
      "text/plain": [
       "'aman'"
      ]
     },
     "execution_count": 10,
     "metadata": {},
     "output_type": "execute_result"
    }
   ],
   "source": [
    "d4['name']"
   ]
  },
  {
   "cell_type": "code",
   "execution_count": 11,
   "id": "3d29b7f1-94f5-40e8-b626-6b1d795c6ebb",
   "metadata": {},
   "outputs": [],
   "source": [
    "d5={'company':\"pwskills\",\"course\":[\"web dev\",\"data science\",'java with dsa']}"
   ]
  },
  {
   "cell_type": "code",
   "execution_count": 12,
   "id": "7769497f-81a7-4a0f-a625-e2b8ebbaa83c",
   "metadata": {},
   "outputs": [
    {
     "data": {
      "text/plain": [
       "{'company': 'pwskills', 'course': ['web dev', 'data science', 'java with dsa']}"
      ]
     },
     "execution_count": 12,
     "metadata": {},
     "output_type": "execute_result"
    }
   ],
   "source": [
    "d5"
   ]
  },
  {
   "cell_type": "code",
   "execution_count": 13,
   "id": "296fadf6-16e3-4209-b4ab-695ae3bbec6a",
   "metadata": {},
   "outputs": [
    {
     "data": {
      "text/plain": [
       "'java with dsa'"
      ]
     },
     "execution_count": 13,
     "metadata": {},
     "output_type": "execute_result"
    }
   ],
   "source": [
    "d5['course'][2]"
   ]
  },
  {
   "cell_type": "code",
   "execution_count": 14,
   "id": "50875816-9a79-43e0-b82d-89674704f745",
   "metadata": {},
   "outputs": [],
   "source": [
    "d6={'number':[2,23,23,3,23],'asg':(1,2,3,4,5,6),'launch date':{28,12,14}}"
   ]
  },
  {
   "cell_type": "code",
   "execution_count": 15,
   "id": "da523fce-7779-46f8-aeab-54a95a2e8143",
   "metadata": {},
   "outputs": [
    {
     "data": {
      "text/plain": [
       "{'number': [2, 23, 23, 3, 23],\n",
       " 'asg': (1, 2, 3, 4, 5, 6),\n",
       " 'launch date': {12, 14, 28}}"
      ]
     },
     "execution_count": 15,
     "metadata": {},
     "output_type": "execute_result"
    }
   ],
   "source": [
    "d6"
   ]
  },
  {
   "cell_type": "code",
   "execution_count": 16,
   "id": "8ed0b360-28d0-45f6-be5f-41b9dba9d9d0",
   "metadata": {},
   "outputs": [],
   "source": [
    "d6={'number':[2,23,23,3,23],'asg':(1,2,3,4,5,6),'launch date':{28,12,14},'classtime':{'webdev':8,'datasci':9}}"
   ]
  },
  {
   "cell_type": "code",
   "execution_count": 17,
   "id": "cded3920-1843-4f5b-b159-64929f29fcfb",
   "metadata": {},
   "outputs": [
    {
     "data": {
      "text/plain": [
       "{'number': [2, 23, 23, 3, 23],\n",
       " 'asg': (1, 2, 3, 4, 5, 6),\n",
       " 'launch date': {12, 14, 28},\n",
       " 'classtime': {'webdev': 8, 'datasci': 9}}"
      ]
     },
     "execution_count": 17,
     "metadata": {},
     "output_type": "execute_result"
    }
   ],
   "source": [
    "d6"
   ]
  },
  {
   "cell_type": "code",
   "execution_count": 18,
   "id": "5732eaa1-5670-470f-b433-538e10e5db21",
   "metadata": {},
   "outputs": [
    {
     "data": {
      "text/plain": [
       "8"
      ]
     },
     "execution_count": 18,
     "metadata": {},
     "output_type": "execute_result"
    }
   ],
   "source": [
    "d6['classtime']['webdev']"
   ]
  },
  {
   "cell_type": "code",
   "execution_count": 19,
   "id": "21ca40da-540e-4a39-b5fd-0ffb42ff6772",
   "metadata": {},
   "outputs": [],
   "source": [
    "d6['mentor']=[\"aman\",'krish','anurag','hyder']"
   ]
  },
  {
   "cell_type": "code",
   "execution_count": 20,
   "id": "10eaa732-91d5-49fb-9703-91e3004dada5",
   "metadata": {},
   "outputs": [
    {
     "data": {
      "text/plain": [
       "{'number': [2, 23, 23, 3, 23],\n",
       " 'asg': (1, 2, 3, 4, 5, 6),\n",
       " 'launch date': {12, 14, 28},\n",
       " 'classtime': {'webdev': 8, 'datasci': 9},\n",
       " 'mentor': ['aman', 'krish', 'anurag', 'hyder']}"
      ]
     },
     "execution_count": 20,
     "metadata": {},
     "output_type": "execute_result"
    }
   ],
   "source": [
    "d6"
   ]
  },
  {
   "cell_type": "code",
   "execution_count": 21,
   "id": "933790a9-15c1-4151-bd95-4944f9ca81f7",
   "metadata": {},
   "outputs": [],
   "source": [
    "del d6['number']"
   ]
  },
  {
   "cell_type": "code",
   "execution_count": 22,
   "id": "eb22c29e-ed56-44e7-90ea-eacae863830a",
   "metadata": {},
   "outputs": [
    {
     "data": {
      "text/plain": [
       "{'asg': (1, 2, 3, 4, 5, 6),\n",
       " 'launch date': {12, 14, 28},\n",
       " 'classtime': {'webdev': 8, 'datasci': 9},\n",
       " 'mentor': ['aman', 'krish', 'anurag', 'hyder']}"
      ]
     },
     "execution_count": 22,
     "metadata": {},
     "output_type": "execute_result"
    }
   ],
   "source": [
    "d6"
   ]
  },
  {
   "cell_type": "code",
   "execution_count": 23,
   "id": "18397a00-bba4-4c31-842e-bae8f8640af9",
   "metadata": {},
   "outputs": [
    {
     "data": {
      "text/plain": [
       "dict_keys(['asg', 'launch date', 'classtime', 'mentor'])"
      ]
     },
     "execution_count": 23,
     "metadata": {},
     "output_type": "execute_result"
    }
   ],
   "source": [
    "d6.keys()"
   ]
  },
  {
   "cell_type": "code",
   "execution_count": 24,
   "id": "15f74044-8c5f-4a49-b323-9af9519c1d0d",
   "metadata": {},
   "outputs": [
    {
     "data": {
      "text/plain": [
       "[(1, 2, 3, 4, 5, 6),\n",
       " {12, 14, 28},\n",
       " {'webdev': 8, 'datasci': 9},\n",
       " ['aman', 'krish', 'anurag', 'hyder']]"
      ]
     },
     "execution_count": 24,
     "metadata": {},
     "output_type": "execute_result"
    }
   ],
   "source": [
    "list(d6.values())"
   ]
  },
  {
   "cell_type": "code",
   "execution_count": 25,
   "id": "4ac0e349-fbdd-489d-9ed8-ee0d3cd08ea3",
   "metadata": {},
   "outputs": [
    {
     "data": {
      "text/plain": [
       "[('asg', (1, 2, 3, 4, 5, 6)),\n",
       " ('launch date', {12, 14, 28}),\n",
       " ('classtime', {'webdev': 8, 'datasci': 9}),\n",
       " ('mentor', ['aman', 'krish', 'anurag', 'hyder'])]"
      ]
     },
     "execution_count": 25,
     "metadata": {},
     "output_type": "execute_result"
    }
   ],
   "source": [
    "list(d6.items())"
   ]
  },
  {
   "cell_type": "code",
   "execution_count": 26,
   "id": "b35371fa-59c8-4819-bf76-b94613338a4f",
   "metadata": {},
   "outputs": [
    {
     "ename": "TypeError",
     "evalue": "pop expected at least 1 argument, got 0",
     "output_type": "error",
     "traceback": [
      "\u001b[0;31m---------------------------------------------------------------------------\u001b[0m",
      "\u001b[0;31mTypeError\u001b[0m                                 Traceback (most recent call last)",
      "Cell \u001b[0;32mIn[26], line 1\u001b[0m\n\u001b[0;32m----> 1\u001b[0m \u001b[43md6\u001b[49m\u001b[38;5;241;43m.\u001b[39;49m\u001b[43mpop\u001b[49m\u001b[43m(\u001b[49m\u001b[43m)\u001b[49m\n",
      "\u001b[0;31mTypeError\u001b[0m: pop expected at least 1 argument, got 0"
     ]
    }
   ],
   "source": [
    "d6.pop()"
   ]
  },
  {
   "cell_type": "code",
   "execution_count": null,
   "id": "311b9301-8381-478d-8d30-0c692611acfe",
   "metadata": {},
   "outputs": [],
   "source": []
  }
 ],
 "metadata": {
  "kernelspec": {
   "display_name": "Python 3 (ipykernel)",
   "language": "python",
   "name": "python3"
  },
  "language_info": {
   "codemirror_mode": {
    "name": "ipython",
    "version": 3
   },
   "file_extension": ".py",
   "mimetype": "text/x-python",
   "name": "python",
   "nbconvert_exporter": "python",
   "pygments_lexer": "ipython3",
   "version": "3.10.8"
  }
 },
 "nbformat": 4,
 "nbformat_minor": 5
}
