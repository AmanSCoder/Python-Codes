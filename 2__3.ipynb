{
 "cells": [
  {
   "cell_type": "code",
   "execution_count": 1,
   "id": "3aca4690-bf3c-4e90-a712-c6a108cbc122",
   "metadata": {},
   "outputs": [],
   "source": [
    "l=[1,2,3,4,5]"
   ]
  },
  {
   "cell_type": "code",
   "execution_count": 2,
   "id": "27138cec-da0a-4752-9c67-f78c1448379c",
   "metadata": {},
   "outputs": [
    {
     "data": {
      "text/plain": [
       "[1, 4, 9, 16, 25]"
      ]
     },
     "execution_count": 2,
     "metadata": {},
     "output_type": "execute_result"
    }
   ],
   "source": [
    "[i**2 for i in l]"
   ]
  },
  {
   "cell_type": "code",
   "execution_count": 3,
   "id": "97b63343-7662-4ca4-a40c-601a9b7d2ef7",
   "metadata": {},
   "outputs": [
    {
     "data": {
      "text/plain": [
       "[2, 4]"
      ]
     },
     "execution_count": 3,
     "metadata": {},
     "output_type": "execute_result"
    }
   ],
   "source": [
    "[i for i in l if i%2==0]"
   ]
  },
  {
   "cell_type": "code",
   "execution_count": 4,
   "id": "65eff57f-2e63-45ee-bad7-e0269ca304bb",
   "metadata": {},
   "outputs": [],
   "source": [
    "l1=['aman','pwskills','kumar','data sci']"
   ]
  },
  {
   "cell_type": "code",
   "execution_count": 5,
   "id": "edf79160-d36c-4ae2-bd97-ba316d8d752a",
   "metadata": {},
   "outputs": [
    {
     "data": {
      "text/plain": [
       "['AMAN', 'PWSKILLS', 'KUMAR', 'DATA SCI']"
      ]
     },
     "execution_count": 5,
     "metadata": {},
     "output_type": "execute_result"
    }
   ],
   "source": [
    "[i.upper() for i in l1]"
   ]
  },
  {
   "cell_type": "code",
   "execution_count": 7,
   "id": "19f4eccf-5ec8-4b3c-87e9-f9b7e22f70a6",
   "metadata": {},
   "outputs": [
    {
     "data": {
      "text/plain": [
       "[1, 4, 9, 16, 25]"
      ]
     },
     "execution_count": 7,
     "metadata": {},
     "output_type": "execute_result"
    }
   ],
   "source": [
    "list(i**2 for i in l)"
   ]
  },
  {
   "cell_type": "code",
   "execution_count": 8,
   "id": "179b3aed-587c-4c79-8c4a-992f4296ff8f",
   "metadata": {},
   "outputs": [],
   "source": [
    "d={'key1':1,'key2':2,'key3':3,'key4':4}"
   ]
  },
  {
   "cell_type": "code",
   "execution_count": 9,
   "id": "5e5c2209-98e7-44b3-bfa5-0653805483a6",
   "metadata": {},
   "outputs": [
    {
     "data": {
      "text/plain": [
       "{'key1': 1, 'key2': 4, 'key3': 9, 'key4': 16}"
      ]
     },
     "execution_count": 9,
     "metadata": {},
     "output_type": "execute_result"
    }
   ],
   "source": [
    "{k:v**2 for k,v in d.items()}"
   ]
  },
  {
   "cell_type": "code",
   "execution_count": 10,
   "id": "a033e88b-9c42-4cfd-9a6c-722d34514ac6",
   "metadata": {},
   "outputs": [
    {
     "data": {
      "text/plain": [
       "{'key2': 2, 'key3': 3, 'key4': 4}"
      ]
     },
     "execution_count": 10,
     "metadata": {},
     "output_type": "execute_result"
    }
   ],
   "source": [
    "{k:v for k,v in d.items() if v>1}"
   ]
  },
  {
   "cell_type": "code",
   "execution_count": 11,
   "id": "423a6a13-ae32-4433-b485-4d40a65ee6bc",
   "metadata": {},
   "outputs": [],
   "source": [
    "def test():\n",
    "    pass"
   ]
  },
  {
   "cell_type": "code",
   "execution_count": 12,
   "id": "99ff50bd-e4b5-4ce4-aae9-0d98c38cad4c",
   "metadata": {},
   "outputs": [],
   "source": [
    "def test1():\n",
    "    print('this is my very very first function')"
   ]
  },
  {
   "cell_type": "code",
   "execution_count": 13,
   "id": "08949dbd-e314-4213-947e-b41c97792592",
   "metadata": {},
   "outputs": [
    {
     "name": "stdout",
     "output_type": "stream",
     "text": [
      "this is my very very first function\n"
     ]
    }
   ],
   "source": [
    "test1()"
   ]
  },
  {
   "cell_type": "code",
   "execution_count": 14,
   "id": "a8a54ed0-4f7b-47b0-89bb-b5d65bfea0ef",
   "metadata": {},
   "outputs": [],
   "source": [
    "def test3():\n",
    "    return 'aman',3,323.2,[1,3,3,3]"
   ]
  },
  {
   "cell_type": "code",
   "execution_count": 15,
   "id": "783399cd-d871-4316-89c0-4d8f79e157ff",
   "metadata": {},
   "outputs": [
    {
     "data": {
      "text/plain": [
       "('aman', 3, 323.2, [1, 3, 3, 3])"
      ]
     },
     "execution_count": 15,
     "metadata": {},
     "output_type": "execute_result"
    }
   ],
   "source": [
    "test3()"
   ]
  },
  {
   "cell_type": "code",
   "execution_count": 16,
   "id": "1f7e6b01-0627-41b0-8ec3-5930e74a9c43",
   "metadata": {},
   "outputs": [],
   "source": [
    "a,b,c,d=test3()"
   ]
  },
  {
   "cell_type": "code",
   "execution_count": 17,
   "id": "34ccffa9-a940-49c7-a712-ff6dc550e322",
   "metadata": {},
   "outputs": [
    {
     "data": {
      "text/plain": [
       "'aman'"
      ]
     },
     "execution_count": 17,
     "metadata": {},
     "output_type": "execute_result"
    }
   ],
   "source": [
    "a"
   ]
  },
  {
   "cell_type": "code",
   "execution_count": 18,
   "id": "26f18953-f388-499b-8af9-245dd16371f2",
   "metadata": {},
   "outputs": [
    {
     "data": {
      "text/plain": [
       "3"
      ]
     },
     "execution_count": 18,
     "metadata": {},
     "output_type": "execute_result"
    }
   ],
   "source": [
    "b"
   ]
  },
  {
   "cell_type": "code",
   "execution_count": 19,
   "id": "4c5ef016-60e2-482a-a115-6a67588d61f0",
   "metadata": {},
   "outputs": [
    {
     "data": {
      "text/plain": [
       "323.2"
      ]
     },
     "execution_count": 19,
     "metadata": {},
     "output_type": "execute_result"
    }
   ],
   "source": [
    "c"
   ]
  },
  {
   "cell_type": "code",
   "execution_count": 20,
   "id": "8d38528f-37ef-4846-911e-7dc66c98279a",
   "metadata": {},
   "outputs": [
    {
     "data": {
      "text/plain": [
       "[1, 3, 3, 3]"
      ]
     },
     "execution_count": 20,
     "metadata": {},
     "output_type": "execute_result"
    }
   ],
   "source": [
    "d"
   ]
  },
  {
   "cell_type": "code",
   "execution_count": 21,
   "id": "c59dabf3-d3c8-426f-8096-8272834870e7",
   "metadata": {},
   "outputs": [],
   "source": [
    "def test4():\n",
    "    a=5+6/7\n",
    "    return a"
   ]
  },
  {
   "cell_type": "code",
   "execution_count": 22,
   "id": "3411502c-a054-466d-85b6-3d11b24f20f7",
   "metadata": {},
   "outputs": [
    {
     "data": {
      "text/plain": [
       "5.857142857142857"
      ]
     },
     "execution_count": 22,
     "metadata": {},
     "output_type": "execute_result"
    }
   ],
   "source": [
    "test4()"
   ]
  },
  {
   "cell_type": "code",
   "execution_count": 23,
   "id": "b4a5a108-0ec0-4d3b-b646-e5c1797dd054",
   "metadata": {},
   "outputs": [],
   "source": [
    "def test5(a,b,c):\n",
    "    d=a+b/c\n",
    "    return d"
   ]
  },
  {
   "cell_type": "code",
   "execution_count": 24,
   "id": "76f2a90d-7f3d-4622-ad9a-54a7366f3ff5",
   "metadata": {},
   "outputs": [
    {
     "data": {
      "text/plain": [
       "2.625"
      ]
     },
     "execution_count": 24,
     "metadata": {},
     "output_type": "execute_result"
    }
   ],
   "source": [
    "test5(2,5,8)"
   ]
  },
  {
   "cell_type": "code",
   "execution_count": 42,
   "id": "f93281a3-3dbd-4a64-bd48-7c22908487c8",
   "metadata": {},
   "outputs": [],
   "source": [
    "def test8(l1):\n",
    "    l=[]\n",
    "    for i in l1:\n",
    "        if type(i) is list:\n",
    "            k=test8(i)\n",
    "            for j in k:\n",
    "                l.append(j)\n",
    "        else:\n",
    "            if type(i) is int or type(i) is float:\n",
    "                l.append(i)\n",
    "    print(l)\n",
    "    return l"
   ]
  },
  {
   "cell_type": "code",
   "execution_count": 39,
   "id": "c893d52a-44a9-483b-a08b-8987b5bc70c7",
   "metadata": {},
   "outputs": [
    {
     "name": "stdout",
     "output_type": "stream",
     "text": [
      "[1, 3, 3, 3]\n",
      "[3, 323.2, 1, 3, 3, 3]\n"
     ]
    },
    {
     "data": {
      "text/plain": [
       "[3, 323.2, 1, 3, 3, 3]"
      ]
     },
     "execution_count": 39,
     "metadata": {},
     "output_type": "execute_result"
    }
   ],
   "source": [
    "test8(['aman',3,323.2,[1,3,3,3]])"
   ]
  },
  {
   "cell_type": "code",
   "execution_count": 41,
   "id": "ac7479c2-27e5-408d-b70d-a541c818277a",
   "metadata": {},
   "outputs": [],
   "source": [
    "def test9(l1):\n",
    "    \"\"\"this  is my func\"\"\"\n",
    "    l=[]\n",
    "    for i in l1:\n",
    "        if type(i) is list:\n",
    "            k=test8(i)\n",
    "            for j in k:\n",
    "                l.append(j)\n",
    "        else:\n",
    "            if type(i) is int or type(i) is float:\n",
    "                l.append(i)\n",
    "    print(l)\n",
    "    return l"
   ]
  },
  {
   "cell_type": "code",
   "execution_count": 43,
   "id": "a16dbabf-1c6e-4ece-9706-08f39cfcb446",
   "metadata": {},
   "outputs": [
    {
     "ename": "TypeError",
     "evalue": "test9() missing 1 required positional argument: 'l1'",
     "output_type": "error",
     "traceback": [
      "\u001b[0;31m---------------------------------------------------------------------------\u001b[0m",
      "\u001b[0;31mTypeError\u001b[0m                                 Traceback (most recent call last)",
      "Cell \u001b[0;32mIn[43], line 1\u001b[0m\n\u001b[0;32m----> 1\u001b[0m \u001b[43mtest9\u001b[49m\u001b[43m(\u001b[49m\u001b[43m)\u001b[49m\n",
      "\u001b[0;31mTypeError\u001b[0m: test9() missing 1 required positional argument: 'l1'"
     ]
    }
   ],
   "source": [
    "test9()"
   ]
  },
  {
   "cell_type": "code",
   "execution_count": 44,
   "id": "741648f6-a0f4-4751-bff3-019bd72caaa4",
   "metadata": {},
   "outputs": [],
   "source": [
    "def test11(*args):\n",
    "    return args"
   ]
  },
  {
   "cell_type": "code",
   "execution_count": 45,
   "id": "a729b4d9-6bf8-485d-95a8-857c88203e7f",
   "metadata": {},
   "outputs": [
    {
     "data": {
      "text/plain": [
       "()"
      ]
     },
     "execution_count": 45,
     "metadata": {},
     "output_type": "execute_result"
    }
   ],
   "source": [
    "test11()"
   ]
  },
  {
   "cell_type": "code",
   "execution_count": 46,
   "id": "0ce09dd8-eb51-4f02-96fa-8b58546fb7f7",
   "metadata": {},
   "outputs": [
    {
     "data": {
      "text/plain": [
       "(1, 2, 3)"
      ]
     },
     "execution_count": 46,
     "metadata": {},
     "output_type": "execute_result"
    }
   ],
   "source": [
    "test11(1,2,3)"
   ]
  },
  {
   "cell_type": "code",
   "execution_count": 47,
   "id": "4e3c761b-7ccc-4dbc-857b-ba6d018ef401",
   "metadata": {},
   "outputs": [],
   "source": [
    "def test12(*aman):\n",
    "    return aman"
   ]
  },
  {
   "cell_type": "code",
   "execution_count": 48,
   "id": "c11a1119-72d1-4aa9-ad52-ccef20b0825e",
   "metadata": {},
   "outputs": [
    {
     "data": {
      "text/plain": [
       "(1, 2, 3)"
      ]
     },
     "execution_count": 48,
     "metadata": {},
     "output_type": "execute_result"
    }
   ],
   "source": [
    "test12(1,2,3)"
   ]
  },
  {
   "cell_type": "code",
   "execution_count": 49,
   "id": "f5f84511-8e56-40f8-97a7-6d3d5a9101d4",
   "metadata": {},
   "outputs": [],
   "source": [
    "def test13(*args,a):\n",
    "    return args,a"
   ]
  },
  {
   "cell_type": "code",
   "execution_count": 50,
   "id": "49447b17-bf52-4aaa-bd8b-cb682eb082a5",
   "metadata": {},
   "outputs": [
    {
     "data": {
      "text/plain": [
       "((1, 2, 3, 4), 25)"
      ]
     },
     "execution_count": 50,
     "metadata": {},
     "output_type": "execute_result"
    }
   ],
   "source": [
    "test13(1,2,3,4,a=25)"
   ]
  },
  {
   "cell_type": "code",
   "execution_count": 51,
   "id": "0c1787cd-9638-4cf3-a89f-a3621a2ac19c",
   "metadata": {},
   "outputs": [],
   "source": [
    "def test14(c,d,a=24,b=1):\n",
    "    return a,b,c,d"
   ]
  },
  {
   "cell_type": "code",
   "execution_count": 52,
   "id": "93b2f634-8d9b-490a-8dec-ef34ae3a340c",
   "metadata": {},
   "outputs": [
    {
     "data": {
      "text/plain": [
       "(24, 1, 3, 4)"
      ]
     },
     "execution_count": 52,
     "metadata": {},
     "output_type": "execute_result"
    }
   ],
   "source": [
    "test14(3,4)"
   ]
  },
  {
   "cell_type": "code",
   "execution_count": 53,
   "id": "781df05d-2f6d-47e7-ac19-7626fcfccc00",
   "metadata": {},
   "outputs": [
    {
     "data": {
      "text/plain": [
       "(2345, 1, 3, 4)"
      ]
     },
     "execution_count": 53,
     "metadata": {},
     "output_type": "execute_result"
    }
   ],
   "source": [
    "test14(3,4,a=2345)"
   ]
  },
  {
   "cell_type": "code",
   "execution_count": 54,
   "id": "47d6dc63-c27d-44a9-9fd6-db87d15c027d",
   "metadata": {},
   "outputs": [],
   "source": [
    "def test15(**kwargs):\n",
    "    return kwargs"
   ]
  },
  {
   "cell_type": "code",
   "execution_count": 57,
   "id": "6ef651d8-8e66-417d-a171-2cebea8092f5",
   "metadata": {},
   "outputs": [
    {
     "data": {
      "text/plain": [
       "dict"
      ]
     },
     "execution_count": 57,
     "metadata": {},
     "output_type": "execute_result"
    }
   ],
   "source": [
    "type(test15())"
   ]
  },
  {
   "cell_type": "code",
   "execution_count": 58,
   "id": "5e62ebb9-6675-4fb4-9866-5d64181a0dee",
   "metadata": {},
   "outputs": [
    {
     "data": {
      "text/plain": [
       "{'a': [1, 2, 3, 4], 'b': 'sudh', 'c': 23.45}"
      ]
     },
     "execution_count": 58,
     "metadata": {},
     "output_type": "execute_result"
    }
   ],
   "source": [
    "test15(a=[1,2,3,4],b='sudh',c=23.45)"
   ]
  },
  {
   "cell_type": "code",
   "execution_count": null,
   "id": "fc92922a-c007-482b-9aed-54a69c26014d",
   "metadata": {},
   "outputs": [],
   "source": []
  }
 ],
 "metadata": {
  "kernelspec": {
   "display_name": "Python 3 (ipykernel)",
   "language": "python",
   "name": "python3"
  },
  "language_info": {
   "codemirror_mode": {
    "name": "ipython",
    "version": 3
   },
   "file_extension": ".py",
   "mimetype": "text/x-python",
   "name": "python",
   "nbconvert_exporter": "python",
   "pygments_lexer": "ipython3",
   "version": "3.10.8"
  }
 },
 "nbformat": 4,
 "nbformat_minor": 5
}
