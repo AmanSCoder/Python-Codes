{
 "cells": [
  {
   "cell_type": "code",
   "execution_count": 1,
   "id": "4b7d604b-a3a0-4db2-877b-bc1789e0d589",
   "metadata": {},
   "outputs": [],
   "source": [
    "a=1"
   ]
  },
  {
   "cell_type": "code",
   "execution_count": 2,
   "id": "5ac3bd5d-1f21-4fab-a6aa-99ce1f72ba17",
   "metadata": {},
   "outputs": [
    {
     "name": "stdout",
     "output_type": "stream",
     "text": [
      "<class 'int'>\n"
     ]
    }
   ],
   "source": [
    "print(type(a))"
   ]
  },
  {
   "cell_type": "code",
   "execution_count": 3,
   "id": "7603e75a-58ba-4c57-826b-4c8e7c11e952",
   "metadata": {},
   "outputs": [
    {
     "name": "stdout",
     "output_type": "stream",
     "text": [
      "<class 'str'>\n"
     ]
    }
   ],
   "source": [
    "print(type(\"pwsile\"))"
   ]
  },
  {
   "cell_type": "code",
   "execution_count": 5,
   "id": "0f1a5b0e-b33d-4610-be96-65c0fd6a3cfa",
   "metadata": {},
   "outputs": [],
   "source": [
    "class test:\n",
    "    pass # this creates the blank classs"
   ]
  },
  {
   "cell_type": "code",
   "execution_count": 6,
   "id": "123dad7a-1787-477c-97ad-34650ea3de7b",
   "metadata": {},
   "outputs": [],
   "source": [
    "a=test()"
   ]
  },
  {
   "cell_type": "code",
   "execution_count": 7,
   "id": "0c0fee5c-8e49-44b2-91c4-72c27b8b19e0",
   "metadata": {},
   "outputs": [
    {
     "data": {
      "text/plain": [
       "__main__.test"
      ]
     },
     "execution_count": 7,
     "metadata": {},
     "output_type": "execute_result"
    }
   ],
   "source": [
    "type(a)"
   ]
  },
  {
   "cell_type": "code",
   "execution_count": 8,
   "id": "5a0c1b1a-c2e6-4202-8e37-23f1badec7aa",
   "metadata": {},
   "outputs": [
    {
     "name": "stdout",
     "output_type": "stream",
     "text": [
      "<class '__main__.test'>\n"
     ]
    }
   ],
   "source": [
    "print(type(a))"
   ]
  },
  {
   "cell_type": "code",
   "execution_count": 10,
   "id": "44479163-d9b6-49f5-8b59-477928946f44",
   "metadata": {},
   "outputs": [
    {
     "name": "stdout",
     "output_type": "stream",
     "text": [
      "<class '__main__.test'>\n"
     ]
    }
   ],
   "source": [
    "print(type(test()))"
   ]
  },
  {
   "cell_type": "code",
   "execution_count": 16,
   "id": "393e306d-29d4-4430-b0eb-775485f23ac4",
   "metadata": {},
   "outputs": [],
   "source": [
    "class pwskills:\n",
    "    def welcome_msgs(self):\n",
    "        print(\"welcome to pwskills\")"
   ]
  },
  {
   "cell_type": "code",
   "execution_count": 18,
   "id": "7220d2b3-a390-450a-a6f5-872667889cb9",
   "metadata": {},
   "outputs": [],
   "source": [
    "rohan=pwskills()"
   ]
  },
  {
   "cell_type": "code",
   "execution_count": 14,
   "id": "40cacba3-0857-4c02-b7a2-1001d360a364",
   "metadata": {},
   "outputs": [
    {
     "name": "stdout",
     "output_type": "stream",
     "text": [
      "<class '__main__.pwskills'>\n"
     ]
    }
   ],
   "source": [
    "print(type(rohan))"
   ]
  },
  {
   "cell_type": "code",
   "execution_count": 19,
   "id": "2170796a-3df0-4104-a291-c48459c64446",
   "metadata": {},
   "outputs": [
    {
     "name": "stdout",
     "output_type": "stream",
     "text": [
      "welcome to pwskills\n"
     ]
    }
   ],
   "source": [
    "rohan.welcome_msgs()"
   ]
  },
  {
   "cell_type": "code",
   "execution_count": 20,
   "id": "cf382c24-b8c4-4600-8f3b-54e1680c18af",
   "metadata": {},
   "outputs": [],
   "source": [
    "class pw:\n",
    "    def __init__(self,phn_no,email_id,student_id):\n",
    "        self.phn_no=phn_no\n",
    "        self.email_id=email_id\n",
    "        self.student_id=student_id\n",
    "        \n",
    "    def return_student_details(self):\n",
    "        return self.student_id,self.phn_no,self.email_id"
   ]
  },
  {
   "cell_type": "code",
   "execution_count": 21,
   "id": "c8602d9c-ea02-4409-8878-99a2ec948bdc",
   "metadata": {},
   "outputs": [
    {
     "ename": "TypeError",
     "evalue": "pw.__init__() missing 3 required positional arguments: 'phn_no', 'email_id', and 'student_id'",
     "output_type": "error",
     "traceback": [
      "\u001b[0;31m---------------------------------------------------------------------------\u001b[0m",
      "\u001b[0;31mTypeError\u001b[0m                                 Traceback (most recent call last)",
      "Cell \u001b[0;32mIn[21], line 1\u001b[0m\n\u001b[0;32m----> 1\u001b[0m rohan\u001b[38;5;241m=\u001b[39m\u001b[43mpw\u001b[49m\u001b[43m(\u001b[49m\u001b[43m)\u001b[49m\n",
      "\u001b[0;31mTypeError\u001b[0m: pw.__init__() missing 3 required positional arguments: 'phn_no', 'email_id', and 'student_id'"
     ]
    }
   ],
   "source": [
    "rohan=pw()"
   ]
  },
  {
   "cell_type": "code",
   "execution_count": 22,
   "id": "38e5c587-0c2f-4118-96a8-7b66d661a83f",
   "metadata": {},
   "outputs": [],
   "source": [
    "rohan=pw(2134324,\"rohan@gamil.com\",101)"
   ]
  },
  {
   "cell_type": "code",
   "execution_count": 23,
   "id": "e59fa702-5e55-4a14-87e8-1f851f487665",
   "metadata": {},
   "outputs": [
    {
     "data": {
      "text/plain": [
       "(101, 2134324, 'rohan@gamil.com')"
      ]
     },
     "execution_count": 23,
     "metadata": {},
     "output_type": "execute_result"
    }
   ],
   "source": [
    " rohan.return_student_details()"
   ]
  },
  {
   "cell_type": "code",
   "execution_count": 24,
   "id": "13a7c46a-4eb1-4676-b989-45f76731de2c",
   "metadata": {},
   "outputs": [],
   "source": [
    "class pw2:\n",
    "    def __init__(self,phn_no,email_id,student_id):\n",
    "        self.phn_no1=phn_no\n",
    "        self.email_id1=email_id\n",
    "        self.student_id1=student_id\n",
    "        \n",
    "    def return_student_details(self):\n",
    "        return self.student_id1,self.phn_no1,self.email_id1"
   ]
  },
  {
   "cell_type": "code",
   "execution_count": 25,
   "id": "e2eca74c-b45f-4904-9c87-a8944f9cc234",
   "metadata": {},
   "outputs": [],
   "source": [
    "bunty=pw2(1325235,\"3435@4353.com\",102)"
   ]
  },
  {
   "cell_type": "code",
   "execution_count": 26,
   "id": "b5380528-d78d-4cad-8b8f-b07cf197425d",
   "metadata": {},
   "outputs": [
    {
     "data": {
      "text/plain": [
       "(102, 1325235, '3435@4353.com')"
      ]
     },
     "execution_count": 26,
     "metadata": {},
     "output_type": "execute_result"
    }
   ],
   "source": [
    "bunty.return_student_details()"
   ]
  },
  {
   "cell_type": "code",
   "execution_count": 27,
   "id": "e0537e5d-1668-45c9-9ad7-1cfaa414b554",
   "metadata": {},
   "outputs": [],
   "source": [
    "class pw3:\n",
    "    def __init__(aman,phn_no,email_id,student_id):\n",
    "        aman.phn_no1=phn_no\n",
    "        aman.email_id1=email_id\n",
    "        aman.student_id1=student_id\n",
    "        \n",
    "    def return_student_details(self):\n",
    "        return aman.student_id1,aman.phn_no1,aman.email_id1"
   ]
  },
  {
   "cell_type": "code",
   "execution_count": 29,
   "id": "8c6b48bf-da17-4670-864c-89bc04eeeb9c",
   "metadata": {},
   "outputs": [],
   "source": [
    "aman=pw3(24356,\"5244.2345@2352.com\",1)"
   ]
  },
  {
   "cell_type": "code",
   "execution_count": 30,
   "id": "f463b191-3165-4e37-a50b-c82f9b8a3924",
   "metadata": {},
   "outputs": [
    {
     "data": {
      "text/plain": [
       "(1, 24356, '5244.2345@2352.com')"
      ]
     },
     "execution_count": 30,
     "metadata": {},
     "output_type": "execute_result"
    }
   ],
   "source": [
    "aman.return_student_details()"
   ]
  },
  {
   "cell_type": "code",
   "execution_count": null,
   "id": "f3dae208-6821-44d0-aed9-dce525d09326",
   "metadata": {},
   "outputs": [],
   "source": []
  }
 ],
 "metadata": {
  "kernelspec": {
   "display_name": "Python 3 (ipykernel)",
   "language": "python",
   "name": "python3"
  },
  "language_info": {
   "codemirror_mode": {
    "name": "ipython",
    "version": 3
   },
   "file_extension": ".py",
   "mimetype": "text/x-python",
   "name": "python",
   "nbconvert_exporter": "python",
   "pygments_lexer": "ipython3",
   "version": "3.10.8"
  }
 },
 "nbformat": 4,
 "nbformat_minor": 5
}
